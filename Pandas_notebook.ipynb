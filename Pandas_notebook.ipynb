{
 "cells": [
  {
   "cell_type": "code",
   "execution_count": null,
   "id": "588495bc-a6ce-4cc2-a976-8361789ac144",
   "metadata": {},
   "outputs": [],
   "source": [
    "!pip install pandas\n",
    "!pip install openpyxl\n",
    "!pip install matplotlib"
   ]
  },
  {
   "cell_type": "markdown",
   "id": "8d220f59-b4b4-446a-9abf-6a08b4cda10d",
   "metadata": {},
   "source": [
    "### Pandas and more Pandas"
   ]
  },
  {
   "cell_type": "code",
   "execution_count": null,
   "id": "249a2f24-91f7-4f78-bf24-dd26b3351668",
   "metadata": {},
   "outputs": [],
   "source": [
    "\n",
    "import pandas as pd"
   ]
  },
  {
   "cell_type": "code",
   "execution_count": null,
   "id": "44793da5-8d1e-4d1b-ae67-749a27a79330",
   "metadata": {},
   "outputs": [],
   "source": [
    "forum_users = {\n",
    "    'User ID': [1,2,3,4,5],\n",
    "    'Username':['bob', 'sam', 'joe', 'karl', 'tom'],\n",
    "    'Age':[12,34,12,42,11],\n",
    "    'Joined Date':['2023-04-01','2023-03-21','2023-09-02','2023-07-10','2023-04-16'],\n",
    "    'Total Posts':[124,22,15,644,223],\n",
    "    'Reputation':[400,600,700,800,100]\n",
    "}"
   ]
  },
  {
   "cell_type": "code",
   "execution_count": null,
   "id": "53387c24-d147-447a-ad9c-8409337ccc55",
   "metadata": {},
   "outputs": [],
   "source": [
    "df =pd.DataFrame(forum_users)\n",
    "df"
   ]
  },
  {
   "cell_type": "code",
   "execution_count": null,
   "id": "d5a7e774-becc-46b5-950d-28ab9407965b",
   "metadata": {},
   "outputs": [],
   "source": [
    "df.shape"
   ]
  },
  {
   "cell_type": "code",
   "execution_count": null,
   "id": "64b1436e-ba43-447d-9ff6-5db4076c0eb7",
   "metadata": {},
   "outputs": [],
   "source": [
    "type(df)"
   ]
  },
  {
   "cell_type": "code",
   "execution_count": null,
   "id": "6d943ee3-534c-462e-95c7-58ed17616ed0",
   "metadata": {},
   "outputs": [],
   "source": [
    "df.columns"
   ]
  },
  {
   "cell_type": "code",
   "execution_count": null,
   "id": "67784643-7d51-4d93-8e8d-50308d419ca2",
   "metadata": {},
   "outputs": [],
   "source": [
    "type(df.columns)"
   ]
  },
  {
   "cell_type": "code",
   "execution_count": null,
   "id": "8b873bf3-0232-456e-8853-53407fd859ca",
   "metadata": {},
   "outputs": [],
   "source": [
    "df.columns.tolist()"
   ]
  },
  {
   "cell_type": "code",
   "execution_count": null,
   "id": "c7128b91-4250-436c-b75b-976a8da5414c",
   "metadata": {},
   "outputs": [],
   "source": [
    "df.index.tolist()"
   ]
  },
  {
   "cell_type": "code",
   "execution_count": null,
   "id": "d971994e-232d-4b85-b23b-e0e1bd5b5533",
   "metadata": {},
   "outputs": [],
   "source": [
    "df.dtypes"
   ]
  },
  {
   "cell_type": "code",
   "execution_count": null,
   "id": "d4c09436-7bd1-4b31-b030-884cb08ae543",
   "metadata": {},
   "outputs": [],
   "source": [
    "df.values"
   ]
  },
  {
   "cell_type": "code",
   "execution_count": null,
   "id": "aa12fd02-17bf-4251-adcb-67ea651152e4",
   "metadata": {},
   "outputs": [],
   "source": [
    "type(df.values)"
   ]
  },
  {
   "cell_type": "code",
   "execution_count": null,
   "id": "78752fa9-a4be-469d-8e41-672789eeaebb",
   "metadata": {},
   "outputs": [],
   "source": [
    "df.values[1,1]"
   ]
  },
  {
   "cell_type": "code",
   "execution_count": null,
   "id": "d15be77d-9752-4b7a-8a02-de662e45b040",
   "metadata": {},
   "outputs": [],
   "source": [
    "df.head()"
   ]
  },
  {
   "cell_type": "code",
   "execution_count": null,
   "id": "7b6e989b-466d-4a08-893b-85ec095b2773",
   "metadata": {},
   "outputs": [],
   "source": [
    "df.head(3)"
   ]
  },
  {
   "cell_type": "code",
   "execution_count": null,
   "id": "128ac6f0-cd06-4f7a-834c-075be915bf06",
   "metadata": {},
   "outputs": [],
   "source": [
    "df.tail(2)"
   ]
  },
  {
   "cell_type": "code",
   "execution_count": null,
   "id": "3cd13e9b-338b-4850-9ec0-e546fcdd500e",
   "metadata": {},
   "outputs": [],
   "source": [
    "df.describe()"
   ]
  },
  {
   "cell_type": "code",
   "execution_count": null,
   "id": "e88649a2-15fc-40c0-b834-e3202ea6751b",
   "metadata": {},
   "outputs": [],
   "source": [
    "df.describe().index"
   ]
  },
  {
   "cell_type": "code",
   "execution_count": null,
   "id": "65ba66d9-4ce9-40f1-9aa5-ff53b00a9d8e",
   "metadata": {},
   "outputs": [],
   "source": [
    "df.select_dtypes(include='object')"
   ]
  },
  {
   "cell_type": "code",
   "execution_count": null,
   "id": "4796c1c7-4a69-4dc4-9e4f-742ff72d5453",
   "metadata": {},
   "outputs": [],
   "source": [
    "df.select_dtypes(include='int64')"
   ]
  },
  {
   "cell_type": "code",
   "execution_count": null,
   "id": "a46ca383-0e00-48f3-aaf5-796abcf4d105",
   "metadata": {},
   "outputs": [],
   "source": []
  },
  {
   "cell_type": "code",
   "execution_count": null,
   "id": "e772d130-9ea6-4bff-9d4a-da60c68bdff9",
   "metadata": {},
   "outputs": [],
   "source": [
    "df.select_dtypes(include='object').columns"
   ]
  },
  {
   "cell_type": "code",
   "execution_count": null,
   "id": "56354d40-15d6-4e32-be8b-928dad63b153",
   "metadata": {},
   "outputs": [],
   "source": [
    "df.isna()"
   ]
  },
  {
   "cell_type": "code",
   "execution_count": null,
   "id": "c59e3c77-17c8-45b1-96f0-fbaf2c586c96",
   "metadata": {},
   "outputs": [],
   "source": [
    "forum_users = {\n",
    "    'User ID': [1,2,3,4,5],\n",
    "    'Username':['bob', 'sam', 'joe', 'karl', 'tom'],\n",
    "    'Age':[12,34,12,42,None],\n",
    "    'Joined Date':pd.to_datetime(['2023-04-01','2023-03-21','2023-09-02','2023-07-10','2023-04-16']),\n",
    "    'Total Posts':[124,22,15,644,223],\n",
    "    'Reputation':[400,600,700,800,100]\n",
    "}"
   ]
  },
  {
   "cell_type": "code",
   "execution_count": null,
   "id": "1452b192-7490-4b5f-b8be-0e11ffd781b7",
   "metadata": {},
   "outputs": [],
   "source": [
    "df =pd.DataFrame(forum_users)\n",
    "df"
   ]
  },
  {
   "cell_type": "code",
   "execution_count": null,
   "id": "d12f05a9-c6a3-4c29-a30b-d1c67b9f25cf",
   "metadata": {},
   "outputs": [],
   "source": [
    "df.dtypes"
   ]
  },
  {
   "cell_type": "code",
   "execution_count": null,
   "id": "491707c1-286d-45d4-8afa-ebe7f55dad5d",
   "metadata": {},
   "outputs": [],
   "source": [
    "df.describe().round(2)"
   ]
  },
  {
   "cell_type": "code",
   "execution_count": null,
   "id": "d65e9142-93bc-4eca-a396-8b7820a6c8e6",
   "metadata": {},
   "outputs": [],
   "source": [
    "df.isna()"
   ]
  },
  {
   "cell_type": "code",
   "execution_count": null,
   "id": "3bc9a1f7-e25a-463a-843a-eeb58873e602",
   "metadata": {},
   "outputs": [],
   "source": [
    "df.isna().sum()"
   ]
  },
  {
   "cell_type": "code",
   "execution_count": null,
   "id": "e7a3bc86-8adc-4b64-a2e5-af43c4e3ac40",
   "metadata": {},
   "outputs": [],
   "source": [
    "import numpy as np"
   ]
  },
  {
   "cell_type": "code",
   "execution_count": null,
   "id": "b835327a-283c-4e44-8a30-44b9e75f9984",
   "metadata": {},
   "outputs": [],
   "source": [
    "forum_users = {\n",
    "    # 'User ID': np.array([1,2,3,4,5]),\n",
    "    'User ID': np.array(np.random.randint(1,100,5)),\n",
    "    'Username':['bob', 'sam', 'joe', 'karl', 'tom'],\n",
    "    'Age':[12,34,12,42,None],\n",
    "    'Joined Date':pd.to_datetime(['2023-04-01','2023-03-21','2023-09-02','2023-07-10','2023-04-16']),\n",
    "    'Total Posts':[124,22,15,644,223],\n",
    "    'Reputation':[400,600,700,400,100]\n",
    "}\n",
    "df =pd.DataFrame(forum_users)\n",
    "df"
   ]
  },
  {
   "cell_type": "code",
   "execution_count": null,
   "id": "17a1aec3-ce0e-4a5c-8d11-9bcfe8dccf7b",
   "metadata": {},
   "outputs": [],
   "source": [
    "df.select_dtypes(exclude=['object','int64']).columns"
   ]
  },
  {
   "cell_type": "markdown",
   "id": "3d882819-b028-4f4e-9f5f-52b416851ced",
   "metadata": {},
   "source": [
    "### Series"
   ]
  },
  {
   "cell_type": "code",
   "execution_count": null,
   "id": "5d8d0c39-126b-4949-a03f-255772004c45",
   "metadata": {},
   "outputs": [],
   "source": [
    "s = df['Username']\n",
    "s"
   ]
  },
  {
   "cell_type": "code",
   "execution_count": null,
   "id": "0f4deef1-84e8-4e0c-a80f-3515929020f0",
   "metadata": {},
   "outputs": [],
   "source": [
    "type(s)"
   ]
  },
  {
   "cell_type": "code",
   "execution_count": null,
   "id": "e69722d9-1f96-4694-9133-217828361c6c",
   "metadata": {},
   "outputs": [],
   "source": [
    "s.values"
   ]
  },
  {
   "cell_type": "code",
   "execution_count": null,
   "id": "2d23d23f-c577-4f06-bc5f-4e55bd4031d4",
   "metadata": {},
   "outputs": [],
   "source": [
    "type(s.values)"
   ]
  },
  {
   "cell_type": "code",
   "execution_count": null,
   "id": "b0e5aebc-4a79-4e71-8ea2-3e8256f22dfd",
   "metadata": {},
   "outputs": [],
   "source": [
    "s.index"
   ]
  },
  {
   "cell_type": "code",
   "execution_count": null,
   "id": "188117fd-4efb-418f-8b87-456d82e36982",
   "metadata": {},
   "outputs": [],
   "source": [
    "s.value_counts().values\n",
    "s.value_counts().index\n",
    "s.value_counts()"
   ]
  },
  {
   "cell_type": "code",
   "execution_count": null,
   "id": "3ff2739a-d700-453a-b662-34bb6e255672",
   "metadata": {},
   "outputs": [],
   "source": [
    "df['Reputation'].value_counts()"
   ]
  },
  {
   "cell_type": "code",
   "execution_count": null,
   "id": "f8eebf38-ce2c-4e5b-a200-3438ec50a675",
   "metadata": {},
   "outputs": [],
   "source": [
    "df['Reputation'].value_counts(ascending=True)"
   ]
  },
  {
   "cell_type": "code",
   "execution_count": null,
   "id": "cbcb6e62-c71d-4ea3-99af-b9ad577b13c8",
   "metadata": {},
   "outputs": [],
   "source": [
    "df['Reputation'].unique()"
   ]
  },
  {
   "cell_type": "code",
   "execution_count": null,
   "id": "1458a72c-4448-4ceb-85fe-debb19fa829d",
   "metadata": {},
   "outputs": [],
   "source": [
    "df['Username'].sort_values(ascending=False)\n",
    "df['Username'].sort_values()"
   ]
  },
  {
   "cell_type": "markdown",
   "id": "2d10e6bb-e3cd-402e-ae87-8ed3b2a94c0a",
   "metadata": {},
   "source": [
    "#### Filtering and Sorting"
   ]
  },
  {
   "cell_type": "code",
   "execution_count": null,
   "id": "62869fe1-55cb-487e-b2cb-16a071c84ca0",
   "metadata": {},
   "outputs": [],
   "source": [
    "forum_users = {\n",
    "    # 'User ID': np.array([1,2,3,4,5]),\n",
    "    'User ID': np.array(np.random.randint(1,100,5)),\n",
    "    'Username':['bob', 'sam', 'joe', 'karl', 'tom'],\n",
    "    'Age':[12,34,12,42,None],\n",
    "    'Joined Date':pd.to_datetime(['2023-04-01','2023-03-21','2023-09-02','2023-07-10','2023-04-16']),\n",
    "    'Total Posts':[124,22,15,644,223],\n",
    "    'Reputation':[400,600,700,400,100]\n",
    "}\n",
    "df =pd.DataFrame(forum_users)\n",
    "df"
   ]
  },
  {
   "cell_type": "code",
   "execution_count": null,
   "id": "697190a2-cc97-474b-9816-cc073644de04",
   "metadata": {},
   "outputs": [],
   "source": [
    "df[['Username','Age']]"
   ]
  },
  {
   "cell_type": "raw",
   "id": "75f1bc97-eb90-47fd-b181-d5b552ab0024",
   "metadata": {},
   "source": [
    "Важно помнить, что он работает с метками (в данном примере они числовые), а не индексами"
   ]
  },
  {
   "cell_type": "code",
   "execution_count": null,
   "id": "63eb3a71-5099-49dd-a42c-f644e374a404",
   "metadata": {},
   "outputs": [],
   "source": [
    "df.loc[3]"
   ]
  },
  {
   "cell_type": "code",
   "execution_count": null,
   "id": "b5b544a7-95b4-485f-a079-c24df19362e1",
   "metadata": {},
   "outputs": [],
   "source": [
    "df.loc[2:3]"
   ]
  },
  {
   "cell_type": "raw",
   "id": "0b5702a3-01d6-4b6e-b5d2-21fe8e186072",
   "metadata": {},
   "source": [
    "Можно фильтровать и колонки"
   ]
  },
  {
   "cell_type": "code",
   "execution_count": null,
   "id": "2174266f-82e2-43bb-a82c-b30db173a2d4",
   "metadata": {
    "jupyter": {
     "source_hidden": true
    }
   },
   "outputs": [],
   "source": [
    "df.loc[2:3, ['Username', 'Age']]\n",
    "# df.loc[2:3, [2,4,5]]"
   ]
  },
  {
   "cell_type": "raw",
   "id": "d896eab7-3b2c-4508-a410-0a30b02db62f",
   "metadata": {},
   "source": [
    "Здесь работа идёт с идексам строк или столбцов, причем они совпадают"
   ]
  },
  {
   "cell_type": "code",
   "execution_count": null,
   "id": "d534e7be-18cd-4005-8689-3b0220fe9c8f",
   "metadata": {},
   "outputs": [],
   "source": [
    "df.iloc[2]"
   ]
  },
  {
   "cell_type": "code",
   "execution_count": null,
   "id": "8bf3bc90-8751-40da-95f4-99dc174a4a9d",
   "metadata": {},
   "outputs": [],
   "source": [
    "df.iloc[2:5]"
   ]
  },
  {
   "cell_type": "code",
   "execution_count": null,
   "id": "8d1c0253-7196-4e93-904f-16acf09d445a",
   "metadata": {},
   "outputs": [],
   "source": [
    "df.iloc[2:5, 1:3]"
   ]
  },
  {
   "cell_type": "code",
   "execution_count": null,
   "id": "1ea5dc09-48ec-44d3-85d8-fafb726f6e6c",
   "metadata": {
    "jupyter": {
     "source_hidden": true
    }
   },
   "outputs": [],
   "source": [
    "df.iloc[:, [1,3,5]]"
   ]
  },
  {
   "cell_type": "markdown",
   "id": "a72f00e2-4bfc-4cd1-9c2d-6f97895dcad8",
   "metadata": {},
   "source": [
    "### Filtering"
   ]
  },
  {
   "cell_type": "code",
   "execution_count": null,
   "id": "14809b19-c954-4326-bac3-fe9aca300bb9",
   "metadata": {},
   "outputs": [],
   "source": [
    "df[df['Age']>25]"
   ]
  },
  {
   "cell_type": "code",
   "execution_count": null,
   "id": "7d08e979-5178-49d9-9557-77e4f59c4e08",
   "metadata": {},
   "outputs": [],
   "source": [
    "df['Age']>25"
   ]
  },
  {
   "cell_type": "code",
   "execution_count": null,
   "id": "1f9648dc-fb3e-40b5-9dd8-ef2f3bcc9560",
   "metadata": {},
   "outputs": [],
   "source": [
    "type(df['Age']>25)"
   ]
  },
  {
   "cell_type": "code",
   "execution_count": null,
   "id": "08a5fd6a-3d1d-401f-983c-42f5832cb4c6",
   "metadata": {},
   "outputs": [],
   "source": [
    "(df['Total Posts']>50) & (df['Age']>25)"
   ]
  },
  {
   "cell_type": "code",
   "execution_count": null,
   "id": "c4a03d3a-63df-44ac-abf8-76e7d16b7bb6",
   "metadata": {},
   "outputs": [],
   "source": [
    "df[(df['Total Posts']>50) & (df['Age']>25)]"
   ]
  },
  {
   "cell_type": "code",
   "execution_count": null,
   "id": "7ed2ee50-6310-4efd-bbc5-384c9b5ae2c8",
   "metadata": {},
   "outputs": [],
   "source": [
    "df[(df['Total Posts']>50) | (df['Age']>25)]"
   ]
  },
  {
   "cell_type": "code",
   "execution_count": null,
   "id": "c7ff614c-8a00-4c43-8208-45dc2f732579",
   "metadata": {},
   "outputs": [],
   "source": [
    "df['Reputation'].isin([200,400])"
   ]
  },
  {
   "cell_type": "code",
   "execution_count": null,
   "id": "9ea83c30-ce3a-4ab7-a6d7-2dab20b737b0",
   "metadata": {},
   "outputs": [],
   "source": [
    "df[df['Reputation'].isin([200,400])]"
   ]
  },
  {
   "cell_type": "code",
   "execution_count": null,
   "id": "5701c0d4-c4b1-406b-8b71-b7bc6760f18c",
   "metadata": {},
   "outputs": [],
   "source": [
    "df['Total Posts'].isin(range(20,600))"
   ]
  },
  {
   "cell_type": "code",
   "execution_count": null,
   "id": "f351746a-59f7-4b26-91c0-78b5be127582",
   "metadata": {},
   "outputs": [],
   "source": [
    "df[df['Total Posts'].isin(range(20,600))]"
   ]
  },
  {
   "cell_type": "code",
   "execution_count": null,
   "id": "2cad6755-22df-454e-ba91-65a15ffe3942",
   "metadata": {},
   "outputs": [],
   "source": [
    "date_range=pd.date_range(start='2023-01-01',end='2025-01-01')"
   ]
  },
  {
   "cell_type": "code",
   "execution_count": null,
   "id": "932afae1-b5ae-4c2b-aed6-85bf399bc01f",
   "metadata": {},
   "outputs": [],
   "source": [
    "date_range"
   ]
  },
  {
   "cell_type": "code",
   "execution_count": null,
   "id": "ae60b086-43d8-403f-9b7c-4120a43cb898",
   "metadata": {},
   "outputs": [],
   "source": [
    "df[df['Joined Date'].isin(date_range)]"
   ]
  },
  {
   "cell_type": "markdown",
   "id": "80bd99d9-b853-4caa-92a3-63997d3f3849",
   "metadata": {},
   "source": [
    "### Sorting"
   ]
  },
  {
   "cell_type": "code",
   "execution_count": null,
   "id": "9b6e3998-9ad9-4047-8382-bea808696c6f",
   "metadata": {},
   "outputs": [],
   "source": [
    "df.sort_values(by='Age')"
   ]
  },
  {
   "cell_type": "code",
   "execution_count": null,
   "id": "c3f95b4f-6d10-45c0-84b6-278b71918696",
   "metadata": {},
   "outputs": [],
   "source": [
    "df.sort_values(by='Joined Date', ascending=False)"
   ]
  },
  {
   "cell_type": "code",
   "execution_count": null,
   "id": "844a51d8-7251-4744-afe1-39231b7ef587",
   "metadata": {},
   "outputs": [],
   "source": [
    "df.sort_values(by=['Joined Date','Age'], ascending=False)"
   ]
  },
  {
   "cell_type": "code",
   "execution_count": null,
   "id": "fd6717cb-d398-492b-90b5-7200b6cd6048",
   "metadata": {},
   "outputs": [],
   "source": [
    "df.sort_values(by=1, axis=1,ascending=False)"
   ]
  },
  {
   "cell_type": "code",
   "execution_count": null,
   "id": "6ec05248-5a68-40cb-b755-0b53c3be75d9",
   "metadata": {},
   "outputs": [],
   "source": [
    "df[['User ID', 'Total Posts','Reputation']]"
   ]
  },
  {
   "cell_type": "code",
   "execution_count": null,
   "id": "bf1e8d88-0f84-4fcd-8499-efeb798b58f5",
   "metadata": {},
   "outputs": [],
   "source": [
    "df[['User ID', 'Total Posts','Reputation']].sort_values(by=2, axis=1, ascending=False)"
   ]
  },
  {
   "cell_type": "raw",
   "id": "d72b0aa4-37a4-46df-a066-f290846a7e9c",
   "metadata": {},
   "source": [
    "Добавление и изменение данных"
   ]
  },
  {
   "cell_type": "code",
   "execution_count": null,
   "id": "ee421b0e-ad63-4ad1-8313-bfcbb345d493",
   "metadata": {},
   "outputs": [],
   "source": [
    "forum_users = {\n",
    "    # 'User ID': np.array([1,2,3,4,5]),\n",
    "    'User ID': np.array(np.random.randint(1,100,5)),\n",
    "    'Username':['bob', 'sam', 'joe', 'karl', 'tom'],\n",
    "    'Age':[12,34,12,42,None],\n",
    "    'Joined Date':pd.to_datetime(['2023-04-01','2023-03-21','2023-09-02','2023-07-10','2023-04-16']),\n",
    "    'Total Posts':[124,22,15,644,223],\n",
    "    'Reputation':[400,600,700,400,100]\n",
    "}\n",
    "df =pd.DataFrame(forum_users)\n",
    "df"
   ]
  },
  {
   "cell_type": "code",
   "execution_count": null,
   "id": "0db39fb3-ec3f-4050-b04e-4153d328dddf",
   "metadata": {},
   "outputs": [],
   "source": [
    "df['Language']='English'\n",
    "df"
   ]
  },
  {
   "cell_type": "code",
   "execution_count": null,
   "id": "b239f862-9f64-47f2-9d89-ce0ef87e0db9",
   "metadata": {},
   "outputs": [],
   "source": [
    "df['Reputation']=100\n",
    "df"
   ]
  },
  {
   "cell_type": "code",
   "execution_count": null,
   "id": "267b7335-49f1-4125-ac12-7e4be8f7dfdb",
   "metadata": {},
   "outputs": [],
   "source": [
    "df['Age']=[21,22,24,46,51]\n",
    "df"
   ]
  },
  {
   "cell_type": "code",
   "execution_count": null,
   "id": "d5fc9113-bee9-41ac-b308-6e7d74aa3eb3",
   "metadata": {},
   "outputs": [],
   "source": [
    "df['Active']=np.array([True,False,False,True,True])\n",
    "df"
   ]
  },
  {
   "cell_type": "code",
   "execution_count": null,
   "id": "58d2e618-9916-4706-a00c-e7ce8784a300",
   "metadata": {},
   "outputs": [],
   "source": [
    "total_comments= {\n",
    "    'Total Comments' : [70, 30, 45, 55, 60]\n",
    "}\n",
    "df2 =pd.DataFrame(total_comments)\n",
    "# df2 =pd.DataFrame(total_comments, index=['a','b','c','d','e'])\n",
    "df2\n"
   ]
  },
  {
   "cell_type": "raw",
   "id": "c569d368-0405-4019-8dda-5ef7db377cc2",
   "metadata": {},
   "source": [
    "По умолчанию объединение идёт по оси 0, т.е. по оси 'OY'"
   ]
  },
  {
   "cell_type": "code",
   "execution_count": null,
   "id": "342ddfcc-a869-498d-bbf1-1039a0c8c621",
   "metadata": {},
   "outputs": [],
   "source": [
    "pd.concat([df,df2])"
   ]
  },
  {
   "cell_type": "raw",
   "id": "2483ac5f-baaa-4272-90bd-829154a6a233",
   "metadata": {},
   "source": [
    "Если метку у осей будут разные, тогда соединения не произойдёт!"
   ]
  },
  {
   "cell_type": "code",
   "execution_count": null,
   "id": "5695ee5c-3631-4110-8096-e4d75757416d",
   "metadata": {},
   "outputs": [],
   "source": [
    "pd.concat([df,df2],axis=1)"
   ]
  },
  {
   "cell_type": "code",
   "execution_count": null,
   "id": "6af83908-b655-4100-b172-704560290f34",
   "metadata": {},
   "outputs": [],
   "source": [
    "df"
   ]
  },
  {
   "cell_type": "code",
   "execution_count": null,
   "id": "ba04eff4-5580-4c44-a770-72de3e7e49ee",
   "metadata": {},
   "outputs": [],
   "source": [
    "df=pd.concat([df,df2],axis=1)\n",
    "df"
   ]
  },
  {
   "cell_type": "raw",
   "id": "65db2181-2fe9-4264-a7ff-fed6daa65e18",
   "metadata": {},
   "source": [
    "По умолчанию опять ищет всё в axis=0"
   ]
  },
  {
   "cell_type": "code",
   "execution_count": null,
   "id": "9afc0820-3e72-4ae0-9e58-1d6d2dbd02d1",
   "metadata": {},
   "outputs": [],
   "source": [
    "df.drop(['Language'], axis=1)"
   ]
  },
  {
   "cell_type": "code",
   "execution_count": null,
   "id": "b1d0ad35-c83c-4e42-9204-f1d931638a62",
   "metadata": {},
   "outputs": [],
   "source": [
    "df"
   ]
  },
  {
   "cell_type": "code",
   "execution_count": null,
   "id": "1a4e61d8-53ad-4c8d-bc1e-e21b7d4b1afc",
   "metadata": {},
   "outputs": [],
   "source": [
    "forum_users = {\n",
    "    # 'User ID': np.array([1,2,3,4,5]),\n",
    "    'User ID': np.array(np.random.randint(1,100,5)),\n",
    "    'Username':['bob', 'sam', 'joe', 'karl', 'tom'],\n",
    "    'Age':[12,34,12,42,None],\n",
    "    'Joined Date':pd.to_datetime(['2023-04-01','2023-03-21','2023-09-02','2023-07-10','2023-04-16']),\n",
    "    'Total Posts':[124,22,15,644,223],\n",
    "    'Reputation':[400,600,700,400,100],\n",
    "    'Total Comments' : [70, 30, 45, 55, 60],\n",
    "    'Language' : ['English', 'English', 'English', 'English', 'English'],\n",
    "    'Active' : [True, False, True, True, False]\n",
    "    \n",
    "}\n",
    "df =pd.DataFrame(forum_users)\n",
    "df"
   ]
  },
  {
   "cell_type": "code",
   "execution_count": null,
   "id": "fb1fb2a3-e31d-4365-8b2c-8114c46498c7",
   "metadata": {},
   "outputs": [],
   "source": [
    "df = df.drop(['Language'], axis=1)\n",
    "df"
   ]
  },
  {
   "cell_type": "code",
   "execution_count": null,
   "id": "76972c59-d718-44aa-a72b-32fc4a859651",
   "metadata": {},
   "outputs": [],
   "source": [
    "df.drop(['Active'], axis=1, inplace=True)\n",
    "df"
   ]
  },
  {
   "cell_type": "code",
   "execution_count": null,
   "id": "dfcb6a91-41d9-4f12-90d5-3f13b2b82a01",
   "metadata": {},
   "outputs": [],
   "source": [
    "df.drop([2,3])"
   ]
  },
  {
   "cell_type": "code",
   "execution_count": null,
   "id": "fe1bd5f3-7cc6-40a7-94bf-13fa88650595",
   "metadata": {},
   "outputs": [],
   "source": [
    "df.drop([2,3],axis=1)"
   ]
  },
  {
   "cell_type": "markdown",
   "id": "651b0467-184f-4a62-92f4-e65ed892a659",
   "metadata": {},
   "source": [
    "### Generating rangom data"
   ]
  },
  {
   "cell_type": "code",
   "execution_count": 5,
   "id": "8294420a-b74b-4723-adbe-1d8d4ec1b54c",
   "metadata": {},
   "outputs": [],
   "source": [
    "import numpy as np\n"
   ]
  },
  {
   "cell_type": "code",
   "execution_count": 12,
   "id": "e5364d8e-572b-4d9c-8e81-eebd91b9162e",
   "metadata": {
    "scrolled": true
   },
   "outputs": [
    {
     "data": {
      "text/html": [
       "<div>\n",
       "<style scoped>\n",
       "    .dataframe tbody tr th:only-of-type {\n",
       "        vertical-align: middle;\n",
       "    }\n",
       "\n",
       "    .dataframe tbody tr th {\n",
       "        vertical-align: top;\n",
       "    }\n",
       "\n",
       "    .dataframe thead th {\n",
       "        text-align: right;\n",
       "    }\n",
       "</style>\n",
       "<table border=\"1\" class=\"dataframe\">\n",
       "  <thead>\n",
       "    <tr style=\"text-align: right;\">\n",
       "      <th></th>\n",
       "      <th>Date</th>\n",
       "      <th>Product</th>\n",
       "      <th>Price</th>\n",
       "      <th>Quantity</th>\n",
       "    </tr>\n",
       "  </thead>\n",
       "  <tbody>\n",
       "    <tr>\n",
       "      <th>0</th>\n",
       "      <td>2050-01-01</td>\n",
       "      <td>Camera</td>\n",
       "      <td>191.69</td>\n",
       "      <td>2</td>\n",
       "    </tr>\n",
       "    <tr>\n",
       "      <th>1</th>\n",
       "      <td>2050-01-02</td>\n",
       "      <td>Tabet</td>\n",
       "      <td>137.98</td>\n",
       "      <td>8</td>\n",
       "    </tr>\n",
       "    <tr>\n",
       "      <th>2</th>\n",
       "      <td>2050-01-03</td>\n",
       "      <td>Tabet</td>\n",
       "      <td>185.51</td>\n",
       "      <td>1</td>\n",
       "    </tr>\n",
       "    <tr>\n",
       "      <th>3</th>\n",
       "      <td>2050-01-04</td>\n",
       "      <td>Camera</td>\n",
       "      <td>70.62</td>\n",
       "      <td>11</td>\n",
       "    </tr>\n",
       "    <tr>\n",
       "      <th>4</th>\n",
       "      <td>2050-01-05</td>\n",
       "      <td>Camera</td>\n",
       "      <td>70.89</td>\n",
       "      <td>11</td>\n",
       "    </tr>\n",
       "  </tbody>\n",
       "</table>\n",
       "</div>"
      ],
      "text/plain": [
       "        Date Product   Price  Quantity\n",
       "0 2050-01-01  Camera  191.69         2\n",
       "1 2050-01-02   Tabet  137.98         8\n",
       "2 2050-01-03   Tabet  185.51         1\n",
       "3 2050-01-04  Camera   70.62        11\n",
       "4 2050-01-05  Camera   70.89        11"
      ]
     },
     "execution_count": 12,
     "metadata": {},
     "output_type": "execute_result"
    }
   ],
   "source": [
    "np.random.seed(1)\n",
    "n=100\n",
    "dates=pd.date_range(start='2050-01-01', periods=n,freq='D')\n",
    "products = np.random.choice(['Tabet','Camera','iPhone'], n)\n",
    "prices = np.round(np.random.uniform(50.0,200.0,n), 2)\n",
    "quantities = np.random.randint(1,15,n)\n",
    "data = {\n",
    "    'Date':dates,\n",
    "    'Product':products,\n",
    "    'Price':prices,\n",
    "    'Quantity':quantities\n",
    "}\n",
    "df = pd.DataFrame(data)\n",
    "df.head()"
   ]
  },
  {
   "cell_type": "code",
   "execution_count": 14,
   "id": "4d3922e9-cba8-4c50-9cf0-f6a75eca4aca",
   "metadata": {},
   "outputs": [
    {
     "data": {
      "text/plain": [
       "Date        datetime64[ns]\n",
       "Product             object\n",
       "Price              float64\n",
       "Quantity             int64\n",
       "dtype: object"
      ]
     },
     "execution_count": 14,
     "metadata": {},
     "output_type": "execute_result"
    }
   ],
   "source": [
    "df.dtypes"
   ]
  },
  {
   "cell_type": "code",
   "execution_count": 16,
   "id": "ee13d7b3-7da0-4c6c-aa4d-6d3489f458e6",
   "metadata": {},
   "outputs": [],
   "source": [
    "df.to_csv('my_file.csv',index=False)"
   ]
  },
  {
   "cell_type": "code",
   "execution_count": 22,
   "id": "6d4bfc4a-c1ed-4315-a50e-f31e587a64ad",
   "metadata": {},
   "outputs": [
    {
     "data": {
      "text/html": [
       "<div>\n",
       "<style scoped>\n",
       "    .dataframe tbody tr th:only-of-type {\n",
       "        vertical-align: middle;\n",
       "    }\n",
       "\n",
       "    .dataframe tbody tr th {\n",
       "        vertical-align: top;\n",
       "    }\n",
       "\n",
       "    .dataframe thead th {\n",
       "        text-align: right;\n",
       "    }\n",
       "</style>\n",
       "<table border=\"1\" class=\"dataframe\">\n",
       "  <thead>\n",
       "    <tr style=\"text-align: right;\">\n",
       "      <th></th>\n",
       "      <th>Date</th>\n",
       "      <th>Product</th>\n",
       "      <th>Price</th>\n",
       "      <th>Quantity</th>\n",
       "    </tr>\n",
       "  </thead>\n",
       "  <tbody>\n",
       "    <tr>\n",
       "      <th>0</th>\n",
       "      <td>2050-01-01</td>\n",
       "      <td>Camera</td>\n",
       "      <td>191.69</td>\n",
       "      <td>2</td>\n",
       "    </tr>\n",
       "    <tr>\n",
       "      <th>1</th>\n",
       "      <td>2050-01-02</td>\n",
       "      <td>Tabet</td>\n",
       "      <td>137.98</td>\n",
       "      <td>8</td>\n",
       "    </tr>\n",
       "    <tr>\n",
       "      <th>2</th>\n",
       "      <td>2050-01-03</td>\n",
       "      <td>Tabet</td>\n",
       "      <td>185.51</td>\n",
       "      <td>1</td>\n",
       "    </tr>\n",
       "  </tbody>\n",
       "</table>\n",
       "</div>"
      ],
      "text/plain": [
       "         Date Product   Price  Quantity\n",
       "0  2050-01-01  Camera  191.69         2\n",
       "1  2050-01-02   Tabet  137.98         8\n",
       "2  2050-01-03   Tabet  185.51         1"
      ]
     },
     "execution_count": 22,
     "metadata": {},
     "output_type": "execute_result"
    }
   ],
   "source": [
    "df = pd.read_csv('my_file.csv', parse_dates=['Date'], date_format='%y-%m-%d')\n",
    "df.head(3)"
   ]
  },
  {
   "cell_type": "code",
   "execution_count": 23,
   "id": "0a040c56-2e70-4fba-8cf5-1860955afc5c",
   "metadata": {},
   "outputs": [
    {
     "data": {
      "text/plain": [
       "Date         object\n",
       "Product      object\n",
       "Price       float64\n",
       "Quantity      int64\n",
       "dtype: object"
      ]
     },
     "execution_count": 23,
     "metadata": {},
     "output_type": "execute_result"
    }
   ],
   "source": [
    "df.dtypes"
   ]
  },
  {
   "cell_type": "code",
   "execution_count": 25,
   "id": "913c9868-c2b7-4483-9ffd-b97b786af06f",
   "metadata": {},
   "outputs": [],
   "source": [
    "df.to_excel('my_exel_file.xlsx')"
   ]
  },
  {
   "cell_type": "code",
   "execution_count": 26,
   "id": "976d467a-1ddb-4064-b670-f572e926db27",
   "metadata": {},
   "outputs": [],
   "source": [
    "df.to_json('sales_data.json')"
   ]
  },
  {
   "cell_type": "code",
   "execution_count": 27,
   "id": "f5ac7bb3-8132-435e-8bb3-cddc2622d600",
   "metadata": {},
   "outputs": [
    {
     "data": {
      "text/plain": [
       "(100, 4)"
      ]
     },
     "execution_count": 27,
     "metadata": {},
     "output_type": "execute_result"
    }
   ],
   "source": [
    "df.shape"
   ]
  },
  {
   "cell_type": "code",
   "execution_count": 29,
   "id": "8928f81e-a536-4dfa-98e8-70f90207e799",
   "metadata": {},
   "outputs": [
    {
     "data": {
      "text/html": [
       "<div>\n",
       "<style scoped>\n",
       "    .dataframe tbody tr th:only-of-type {\n",
       "        vertical-align: middle;\n",
       "    }\n",
       "\n",
       "    .dataframe tbody tr th {\n",
       "        vertical-align: top;\n",
       "    }\n",
       "\n",
       "    .dataframe thead th {\n",
       "        text-align: right;\n",
       "    }\n",
       "</style>\n",
       "<table border=\"1\" class=\"dataframe\">\n",
       "  <thead>\n",
       "    <tr style=\"text-align: right;\">\n",
       "      <th></th>\n",
       "      <th>Price</th>\n",
       "      <th>Quantity</th>\n",
       "    </tr>\n",
       "  </thead>\n",
       "  <tbody>\n",
       "    <tr>\n",
       "      <th>count</th>\n",
       "      <td>100.000000</td>\n",
       "      <td>100.000000</td>\n",
       "    </tr>\n",
       "    <tr>\n",
       "      <th>mean</th>\n",
       "      <td>124.996900</td>\n",
       "      <td>7.650000</td>\n",
       "    </tr>\n",
       "    <tr>\n",
       "      <th>std</th>\n",
       "      <td>47.837961</td>\n",
       "      <td>4.137473</td>\n",
       "    </tr>\n",
       "    <tr>\n",
       "      <th>min</th>\n",
       "      <td>50.430000</td>\n",
       "      <td>1.000000</td>\n",
       "    </tr>\n",
       "    <tr>\n",
       "      <th>25%</th>\n",
       "      <td>78.445000</td>\n",
       "      <td>4.000000</td>\n",
       "    </tr>\n",
       "    <tr>\n",
       "      <th>50%</th>\n",
       "      <td>133.700000</td>\n",
       "      <td>8.000000</td>\n",
       "    </tr>\n",
       "    <tr>\n",
       "      <th>75%</th>\n",
       "      <td>165.012500</td>\n",
       "      <td>11.000000</td>\n",
       "    </tr>\n",
       "    <tr>\n",
       "      <th>max</th>\n",
       "      <td>199.600000</td>\n",
       "      <td>14.000000</td>\n",
       "    </tr>\n",
       "  </tbody>\n",
       "</table>\n",
       "</div>"
      ],
      "text/plain": [
       "            Price    Quantity\n",
       "count  100.000000  100.000000\n",
       "mean   124.996900    7.650000\n",
       "std     47.837961    4.137473\n",
       "min     50.430000    1.000000\n",
       "25%     78.445000    4.000000\n",
       "50%    133.700000    8.000000\n",
       "75%    165.012500   11.000000\n",
       "max    199.600000   14.000000"
      ]
     },
     "execution_count": 29,
     "metadata": {},
     "output_type": "execute_result"
    }
   ],
   "source": [
    "df.describe()"
   ]
  },
  {
   "cell_type": "code",
   "execution_count": 30,
   "id": "8f4e223a-3f1e-4d12-8d26-35d9e07a6c8b",
   "metadata": {},
   "outputs": [
    {
     "data": {
      "text/html": [
       "<div>\n",
       "<style scoped>\n",
       "    .dataframe tbody tr th:only-of-type {\n",
       "        vertical-align: middle;\n",
       "    }\n",
       "\n",
       "    .dataframe tbody tr th {\n",
       "        vertical-align: top;\n",
       "    }\n",
       "\n",
       "    .dataframe thead th {\n",
       "        text-align: right;\n",
       "    }\n",
       "</style>\n",
       "<table border=\"1\" class=\"dataframe\">\n",
       "  <thead>\n",
       "    <tr style=\"text-align: right;\">\n",
       "      <th></th>\n",
       "      <th>Price</th>\n",
       "      <th>Quantity</th>\n",
       "    </tr>\n",
       "  </thead>\n",
       "  <tbody>\n",
       "    <tr>\n",
       "      <th>count</th>\n",
       "      <td>100.00</td>\n",
       "      <td>100.00</td>\n",
       "    </tr>\n",
       "    <tr>\n",
       "      <th>mean</th>\n",
       "      <td>125.00</td>\n",
       "      <td>7.65</td>\n",
       "    </tr>\n",
       "    <tr>\n",
       "      <th>std</th>\n",
       "      <td>47.84</td>\n",
       "      <td>4.14</td>\n",
       "    </tr>\n",
       "    <tr>\n",
       "      <th>min</th>\n",
       "      <td>50.43</td>\n",
       "      <td>1.00</td>\n",
       "    </tr>\n",
       "    <tr>\n",
       "      <th>25%</th>\n",
       "      <td>78.44</td>\n",
       "      <td>4.00</td>\n",
       "    </tr>\n",
       "    <tr>\n",
       "      <th>50%</th>\n",
       "      <td>133.70</td>\n",
       "      <td>8.00</td>\n",
       "    </tr>\n",
       "    <tr>\n",
       "      <th>75%</th>\n",
       "      <td>165.01</td>\n",
       "      <td>11.00</td>\n",
       "    </tr>\n",
       "    <tr>\n",
       "      <th>max</th>\n",
       "      <td>199.60</td>\n",
       "      <td>14.00</td>\n",
       "    </tr>\n",
       "  </tbody>\n",
       "</table>\n",
       "</div>"
      ],
      "text/plain": [
       "        Price  Quantity\n",
       "count  100.00    100.00\n",
       "mean   125.00      7.65\n",
       "std     47.84      4.14\n",
       "min     50.43      1.00\n",
       "25%     78.44      4.00\n",
       "50%    133.70      8.00\n",
       "75%    165.01     11.00\n",
       "max    199.60     14.00"
      ]
     },
     "execution_count": 30,
     "metadata": {},
     "output_type": "execute_result"
    }
   ],
   "source": [
    "df.describe().round(2)"
   ]
  },
  {
   "cell_type": "code",
   "execution_count": 33,
   "id": "5bc0cd49-04e2-452c-bee9-424072e0968b",
   "metadata": {},
   "outputs": [
    {
     "data": {
      "text/plain": [
       "array([['2050-01-01', 'Camera', 191.69, 2],\n",
       "       ['2050-01-02', 'Tabet', 137.98, 8],\n",
       "       ['2050-01-03', 'Tabet', 185.51, 1],\n",
       "       ['2050-01-04', 'Camera', 70.62, 11],\n",
       "       ['2050-01-05', 'Camera', 70.89, 11]], dtype=object)"
      ]
     },
     "execution_count": 33,
     "metadata": {},
     "output_type": "execute_result"
    }
   ],
   "source": [
    "df.values[:5]"
   ]
  },
  {
   "cell_type": "code",
   "execution_count": 35,
   "id": "1ffbbece-b393-4464-ada5-6723b983ff46",
   "metadata": {},
   "outputs": [
    {
     "data": {
      "text/plain": [
       "Product\n",
       "Camera    260\n",
       "Tabet     297\n",
       "iPhone    208\n",
       "Name: Quantity, dtype: int64"
      ]
     },
     "execution_count": 35,
     "metadata": {},
     "output_type": "execute_result"
    }
   ],
   "source": [
    "df.groupby('Product')['Quantity'].sum()"
   ]
  },
  {
   "cell_type": "code",
   "execution_count": null,
   "id": "fa4cfc72-5cf7-41b0-b337-b6253e5d9ce7",
   "metadata": {},
   "outputs": [],
   "source": [
    "df.groupby('Product')['Quantity'].sum()"
   ]
  },
  {
   "cell_type": "code",
   "execution_count": 37,
   "id": "6d31f3f2-e731-4ae7-8d1e-3d0d70fd2a22",
   "metadata": {},
   "outputs": [
    {
     "data": {
      "text/plain": [
       "Product\n",
       "Camera    117.50\n",
       "Tabet     125.00\n",
       "iPhone    135.16\n",
       "Name: Price, dtype: float64"
      ]
     },
     "execution_count": 37,
     "metadata": {},
     "output_type": "execute_result"
    }
   ],
   "source": [
    "df.groupby('Product')['Price'].mean().round(2)"
   ]
  },
  {
   "cell_type": "markdown",
   "id": "202a6c54-aa16-423a-b5be-b41adddeb573",
   "metadata": {},
   "source": [
    "### Using plots :)"
   ]
  },
  {
   "cell_type": "code",
   "execution_count": 39,
   "id": "974be5f6-83a1-4442-b249-a121d28b35da",
   "metadata": {},
   "outputs": [],
   "source": [
    "import matplotlib.pyplot as plt"
   ]
  },
  {
   "cell_type": "code",
   "execution_count": 40,
   "id": "fc1f563c-af96-493d-a146-e5af540550a2",
   "metadata": {},
   "outputs": [
    {
     "data": {
      "text/plain": [
       "Product\n",
       "Camera    260\n",
       "Tabet     297\n",
       "iPhone    208\n",
       "Name: Quantity, dtype: int64"
      ]
     },
     "execution_count": 40,
     "metadata": {},
     "output_type": "execute_result"
    }
   ],
   "source": [
    "product_sales = df.groupby('Product')['Quantity'].sum()\n",
    "product_sales"
   ]
  },
  {
   "cell_type": "code",
   "execution_count": 44,
   "id": "a101c204-c0c8-4d72-b999-600d186f2894",
   "metadata": {},
   "outputs": [
    {
     "data": {
      "text/plain": [
       "<function matplotlib.pyplot.show(close=None, block=None)>"
      ]
     },
     "execution_count": 44,
     "metadata": {},
     "output_type": "execute_result"
    },
    {
     "data": {
      "image/png": "[encoded data removed]",
      "text/plain": [
       "<Figure size 640x480 with 1 Axes>"
      ]
     },
     "metadata": {},
     "output_type": "display_data"
    }
   ],
   "source": [
    "plt.bar(product_sales.index,product_sales.values, color=['red','green','yellow'])\n",
    "plt.title('Name of plot')\n",
    "plt.xlabel('This is x label')\n",
    "plt.ylabel('This is y label')\n",
    "plt.show"
   ]
  },
  {
   "cell_type": "code",
   "execution_count": 45,
   "id": "cdefb6ac-20fc-40d0-beee-109660284999",
   "metadata": {},
   "outputs": [
    {
     "data": {
      "text/plain": [
       "Product\n",
       "Camera    117.50\n",
       "Tabet     125.00\n",
       "iPhone    135.16\n",
       "Name: Price, dtype: float64"
      ]
     },
     "execution_count": 45,
     "metadata": {},
     "output_type": "execute_result"
    }
   ],
   "source": [
    "avg_prices = df.groupby('Product')['Price'].mean().round(2)\n",
    "avg_prices"
   ]
  },
  {
   "cell_type": "code",
   "execution_count": 47,
   "id": "e8b73d1d-be08-401d-828d-f6b16f8a7d18",
   "metadata": {},
   "outputs": [
    {
     "data": {
      "text/plain": [
       "<function matplotlib.pyplot.show(close=None, block=None)>"
      ]
     },
     "execution_count": 47,
     "metadata": {},
     "output_type": "execute_result"
    },
    {
     "data": {
      "image/png": "[encoded data removed]",
      "text/plain": [
       "<Figure size 640x480 with 1 Axes>"
      ]
     },
     "metadata": {},
     "output_type": "display_data"
    }
   ],
   "source": [
    "plt.plot(avg_prices.index, avg_prices.values)\n",
    "plt.title('Average price per product')\n",
    "plt.xlabel('This is x label')\n",
    "plt.ylabel('This is y label')\n",
    "plt.show"
   ]
  },
  {
   "cell_type": "code",
   "execution_count": null,
   "id": "07867535-4e07-4fa7-87aa-0acfb833e9f6",
   "metadata": {},
   "outputs": [],
   "source": []
  }
 ],
 "metadata": {
  "kernelspec": {
   "display_name": "Python 3 (ipykernel)",
   "language": "python",
   "name": "python3"
  },
  "language_info": {
   "codemirror_mode": {
    "name": "ipython",
    "version": 3
   },
   "file_extension": ".py",
   "mimetype": "text/x-python",
   "name": "python",
   "nbconvert_exporter": "python",
   "pygments_lexer": "ipython3",
   "version": "3.10.12"
  }
 },
 "nbformat": 4,
 "nbformat_minor": 5
}
