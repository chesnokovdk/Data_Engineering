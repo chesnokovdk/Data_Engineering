{
 "cells": [
  {
   "cell_type": "code",
   "execution_count": 2,
   "id": "e02ab97a-95ce-441c-91f8-db2e374f95ad",
   "metadata": {},
   "outputs": [],
   "source": [
    "import numpy as np\n"
   ]
  },
  {
   "cell_type": "code",
   "execution_count": 3,
   "id": "c6fce680-9fff-4e16-af6d-566626f2b672",
   "metadata": {},
   "outputs": [
    {
     "data": {
      "text/plain": [
       "<module 'numpy' from '/home/dima/.local/lib/python3.10/site-packages/numpy/__init__.py'>"
      ]
     },
     "execution_count": 3,
     "metadata": {},
     "output_type": "execute_result"
    }
   ],
   "source": [
    "np"
   ]
  },
  {
   "cell_type": "code",
   "execution_count": 6,
   "id": "1f10f8ed-cb18-478e-99ef-1d5a6b33b095",
   "metadata": {},
   "outputs": [
    {
     "data": {
      "text/plain": [
       "array([1, 2, 3, 4])"
      ]
     },
     "execution_count": 6,
     "metadata": {},
     "output_type": "execute_result"
    }
   ],
   "source": [
    "arr=np.array([1,2,3,4])\n",
    "arr"
   ]
  },
  {
   "cell_type": "code",
   "execution_count": 7,
   "id": "78ba6ed7-7dee-4dbe-b158-b98ff854800f",
   "metadata": {},
   "outputs": [
    {
     "data": {
      "text/plain": [
       "array([1, 2, 3, 4])"
      ]
     },
     "execution_count": 7,
     "metadata": {},
     "output_type": "execute_result"
    }
   ],
   "source": [
    "arr=np.array((1,2,3,4))\n",
    "arr"
   ]
  },
  {
   "cell_type": "code",
   "execution_count": 8,
   "id": "775c50d6-9ce9-44aa-9abc-8987703b6111",
   "metadata": {},
   "outputs": [
    {
     "data": {
      "text/plain": [
       "numpy.ndarray"
      ]
     },
     "execution_count": 8,
     "metadata": {},
     "output_type": "execute_result"
    }
   ],
   "source": [
    "type(arr)"
   ]
  },
  {
   "cell_type": "code",
   "execution_count": 10,
   "id": "2025c5e8-25bf-4b47-b3ea-43b7d4f6c563",
   "metadata": {},
   "outputs": [
    {
     "data": {
      "text/plain": [
       "np.int64(1)"
      ]
     },
     "execution_count": 10,
     "metadata": {},
     "output_type": "execute_result"
    }
   ],
   "source": [
    "arr[0]"
   ]
  },
  {
   "cell_type": "code",
   "execution_count": 11,
   "id": "6d9b794e-1a69-470e-83c5-fb44a6420537",
   "metadata": {},
   "outputs": [
    {
     "data": {
      "text/plain": [
       "np.int64(4)"
      ]
     },
     "execution_count": 11,
     "metadata": {},
     "output_type": "execute_result"
    }
   ],
   "source": [
    "arr[-1]"
   ]
  },
  {
   "cell_type": "code",
   "execution_count": 12,
   "id": "ccd6d4d2-4f5c-46d6-8cee-a661f044993a",
   "metadata": {},
   "outputs": [
    {
     "data": {
      "text/plain": [
       "(4,)"
      ]
     },
     "execution_count": 12,
     "metadata": {},
     "output_type": "execute_result"
    }
   ],
   "source": [
    "arr.shape"
   ]
  },
  {
   "cell_type": "code",
   "execution_count": 13,
   "id": "b74c537a-bd76-41ec-9606-8048cb029e92",
   "metadata": {},
   "outputs": [
    {
     "data": {
      "text/plain": [
       "1"
      ]
     },
     "execution_count": 13,
     "metadata": {},
     "output_type": "execute_result"
    }
   ],
   "source": [
    "arr.ndim"
   ]
  },
  {
   "cell_type": "code",
   "execution_count": 14,
   "id": "b4c93bc3-8b9a-47de-aabe-9795d72e05ef",
   "metadata": {},
   "outputs": [
    {
     "data": {
      "text/plain": [
       "4"
      ]
     },
     "execution_count": 14,
     "metadata": {},
     "output_type": "execute_result"
    }
   ],
   "source": [
    "arr.size"
   ]
  },
  {
   "cell_type": "code",
   "execution_count": 15,
   "id": "a72fa11c-644f-449f-abb0-5619a8f15eb8",
   "metadata": {},
   "outputs": [
    {
     "data": {
      "text/plain": [
       "dtype('int64')"
      ]
     },
     "execution_count": 15,
     "metadata": {},
     "output_type": "execute_result"
    }
   ],
   "source": [
    "arr.dtype"
   ]
  },
  {
   "cell_type": "code",
   "execution_count": 16,
   "id": "9728aa82-cd88-4acd-b433-44fbdb893c12",
   "metadata": {},
   "outputs": [
    {
     "data": {
      "text/plain": [
       "8"
      ]
     },
     "execution_count": 16,
     "metadata": {},
     "output_type": "execute_result"
    }
   ],
   "source": [
    "arr.itemsize"
   ]
  },
  {
   "cell_type": "code",
   "execution_count": 21,
   "id": "47b62bc7-322c-46b3-a992-4b1fc741a60e",
   "metadata": {},
   "outputs": [
    {
     "data": {
      "text/plain": [
       "array(['True', '10', 'abc', '5.5'], dtype='<U32')"
      ]
     },
     "execution_count": 21,
     "metadata": {},
     "output_type": "execute_result"
    }
   ],
   "source": [
    "sarr = np.array([True,10,'abc', 5.5])\n",
    "sarr"
   ]
  },
  {
   "cell_type": "code",
   "execution_count": 22,
   "id": "7c1bf560-02ac-42d8-9e2f-bd2648bcd510",
   "metadata": {},
   "outputs": [
    {
     "data": {
      "text/plain": [
       "'str1024'"
      ]
     },
     "execution_count": 22,
     "metadata": {},
     "output_type": "execute_result"
    }
   ],
   "source": [
    "sarr.dtype.name"
   ]
  },
  {
   "cell_type": "code",
   "execution_count": 23,
   "id": "0a311278-053c-4f4f-9d1d-ec85b405b972",
   "metadata": {},
   "outputs": [
    {
     "data": {
      "text/plain": [
       "128"
      ]
     },
     "execution_count": 23,
     "metadata": {},
     "output_type": "execute_result"
    }
   ],
   "source": [
    "sarr.itemsize"
   ]
  },
  {
   "cell_type": "code",
   "execution_count": 24,
   "id": "d285f66f-bfa5-4656-95ae-963e49141ca5",
   "metadata": {},
   "outputs": [
    {
     "data": {
      "text/plain": [
       "array([{'city': 'London'}, {'city': 'Moscow'}], dtype=object)"
      ]
     },
     "execution_count": 24,
     "metadata": {},
     "output_type": "execute_result"
    }
   ],
   "source": [
    "obj_arr=np.array([{'city':'London'},{'city':'Moscow'}])\n",
    "obj_arr"
   ]
  },
  {
   "cell_type": "code",
   "execution_count": 25,
   "id": "f05a430a-12af-4419-8813-e3cb58793a4c",
   "metadata": {},
   "outputs": [
    {
     "data": {
      "text/plain": [
       "'object'"
      ]
     },
     "execution_count": 25,
     "metadata": {},
     "output_type": "execute_result"
    }
   ],
   "source": [
    "obj_arr.dtype.name"
   ]
  },
  {
   "cell_type": "code",
   "execution_count": 26,
   "id": "9f875f5e-c92f-4b88-afce-957ce180020a",
   "metadata": {},
   "outputs": [
    {
     "data": {
      "text/plain": [
       "8"
      ]
     },
     "execution_count": 26,
     "metadata": {},
     "output_type": "execute_result"
    }
   ],
   "source": [
    "obj_arr.itemsize"
   ]
  },
  {
   "cell_type": "markdown",
   "id": "ecc71a89-a1db-43cc-a67c-69f41f17964b",
   "metadata": {},
   "source": [
    "### Two dimensions arrays"
   ]
  },
  {
   "cell_type": "code",
   "execution_count": 29,
   "id": "c312de09-0b2d-4479-9948-b8968c39a8a1",
   "metadata": {},
   "outputs": [
    {
     "data": {
      "text/plain": [
       "array([[1, 2, 3],\n",
       "       [4, 5, 6]])"
      ]
     },
     "execution_count": 29,
     "metadata": {},
     "output_type": "execute_result"
    }
   ],
   "source": [
    "first = np.array([[1,2,3], [4,5,6]])\n",
    "first"
   ]
  },
  {
   "cell_type": "code",
   "execution_count": 30,
   "id": "71fd2bc0-9a6f-47e4-9e3c-f00bd9cec19c",
   "metadata": {},
   "outputs": [
    {
     "data": {
      "text/plain": [
       "(2, 3)"
      ]
     },
     "execution_count": 30,
     "metadata": {},
     "output_type": "execute_result"
    }
   ],
   "source": [
    "first.shape"
   ]
  },
  {
   "cell_type": "code",
   "execution_count": 31,
   "id": "ab6534f0-94a9-4592-8cde-5589ff552988",
   "metadata": {},
   "outputs": [
    {
     "data": {
      "text/plain": [
       "2"
      ]
     },
     "execution_count": 31,
     "metadata": {},
     "output_type": "execute_result"
    }
   ],
   "source": [
    "\n",
    "first.ndim"
   ]
  },
  {
   "cell_type": "code",
   "execution_count": 33,
   "id": "4b84de59-f617-49b0-bb6a-5a64cf2478ef",
   "metadata": {},
   "outputs": [
    {
     "data": {
      "text/plain": [
       "array([[1, 1, 1],\n",
       "       [0, 0, 0]])"
      ]
     },
     "execution_count": 33,
     "metadata": {},
     "output_type": "execute_result"
    }
   ],
   "source": [
    "second = np.array([[1,1,1],[0,0,0]])\n",
    "second"
   ]
  },
  {
   "cell_type": "code",
   "execution_count": 34,
   "id": "0f593b8d-cf3d-4a93-b499-aa50893bdf13",
   "metadata": {},
   "outputs": [
    {
     "data": {
      "text/plain": [
       "(2, 3)"
      ]
     },
     "execution_count": 34,
     "metadata": {},
     "output_type": "execute_result"
    }
   ],
   "source": [
    "second.shape"
   ]
  },
  {
   "cell_type": "code",
   "execution_count": 35,
   "id": "30194530-6b90-4b32-86a3-b058750694e1",
   "metadata": {},
   "outputs": [
    {
     "data": {
      "text/plain": [
       "array([[2, 3, 4],\n",
       "       [4, 5, 6]])"
      ]
     },
     "execution_count": 35,
     "metadata": {},
     "output_type": "execute_result"
    }
   ],
   "source": [
    "first+second"
   ]
  },
  {
   "cell_type": "code",
   "execution_count": 36,
   "id": "e2938c10-7fad-45e1-bd9e-495b0fadf81a",
   "metadata": {},
   "outputs": [
    {
     "data": {
      "text/plain": [
       "array([[1, 2, 3],\n",
       "       [0, 0, 0]])"
      ]
     },
     "execution_count": 36,
     "metadata": {},
     "output_type": "execute_result"
    }
   ],
   "source": [
    "first * second"
   ]
  },
  {
   "cell_type": "code",
   "execution_count": 38,
   "id": "bc1825e5-a695-4701-9044-1f4fec5e7ddf",
   "metadata": {},
   "outputs": [
    {
     "data": {
      "text/plain": [
       "array([[ 2,  4,  6],\n",
       "       [ 8, 10, 12]])"
      ]
     },
     "execution_count": 38,
     "metadata": {},
     "output_type": "execute_result"
    }
   ],
   "source": [
    "first * 2"
   ]
  },
  {
   "cell_type": "code",
   "execution_count": 39,
   "id": "54c32a1b-e0d9-4ab1-b4c2-bd77c0b22ad9",
   "metadata": {},
   "outputs": [
    {
     "data": {
      "text/plain": [
       "array([[1, 2, 3],\n",
       "       [4, 5, 6]])"
      ]
     },
     "execution_count": 39,
     "metadata": {},
     "output_type": "execute_result"
    }
   ],
   "source": [
    "first"
   ]
  },
  {
   "cell_type": "code",
   "execution_count": 42,
   "id": "d6ea648d-b307-43bd-8fa9-a40fecefbe9d",
   "metadata": {},
   "outputs": [
    {
     "data": {
      "text/plain": [
       "np.int64(6)"
      ]
     },
     "execution_count": 42,
     "metadata": {},
     "output_type": "execute_result"
    }
   ],
   "source": [
    "first[1,2]"
   ]
  },
  {
   "cell_type": "code",
   "execution_count": 44,
   "id": "fe4d505a-d692-4653-afa4-40d55dd0a9fd",
   "metadata": {},
   "outputs": [
    {
     "data": {
      "text/plain": [
       "np.int64(6)"
      ]
     },
     "execution_count": 44,
     "metadata": {},
     "output_type": "execute_result"
    }
   ],
   "source": [
    "first[1][2]"
   ]
  },
  {
   "cell_type": "code",
   "execution_count": 46,
   "id": "f77eb2da-dc0d-41df-92a1-5e157ce709fc",
   "metadata": {},
   "outputs": [
    {
     "data": {
      "text/plain": [
       "array([[1, 2, 3],\n",
       "       [4, 5, 6],\n",
       "       [1, 1, 1],\n",
       "       [0, 0, 0]])"
      ]
     },
     "execution_count": 46,
     "metadata": {},
     "output_type": "execute_result"
    }
   ],
   "source": [
    "np.concatenate((first, second))"
   ]
  },
  {
   "cell_type": "code",
   "execution_count": 48,
   "id": "1ecfc4db-20db-441e-91e4-5417608ff4b3",
   "metadata": {},
   "outputs": [
    {
     "data": {
      "text/plain": [
       "array([[1, 1, 1],\n",
       "       [0, 0, 0],\n",
       "       [1, 2, 3],\n",
       "       [4, 5, 6]])"
      ]
     },
     "execution_count": 48,
     "metadata": {},
     "output_type": "execute_result"
    }
   ],
   "source": [
    "np.concatenate((second,first))"
   ]
  },
  {
   "cell_type": "code",
   "execution_count": 49,
   "id": "7c1a1d79-d232-4919-aa40-9616aa2da7a0",
   "metadata": {},
   "outputs": [
    {
     "data": {
      "text/plain": [
       "array([[1, 1, 1, 1, 2, 3],\n",
       "       [0, 0, 0, 4, 5, 6]])"
      ]
     },
     "execution_count": 49,
     "metadata": {},
     "output_type": "execute_result"
    }
   ],
   "source": [
    "np.concatenate((second,first), axis=1)"
   ]
  },
  {
   "cell_type": "code",
   "execution_count": 50,
   "id": "9a79050e-934a-411b-9ec3-3687fc79704f",
   "metadata": {},
   "outputs": [
    {
     "data": {
      "text/plain": [
       "array([1, 2, 3, 4, 5, 6, 7, 8])"
      ]
     },
     "execution_count": 50,
     "metadata": {},
     "output_type": "execute_result"
    }
   ],
   "source": [
    "np.concatenate((np.array([1,2,3,4]), np.array([5,6,7,8])))"
   ]
  },
  {
   "cell_type": "raw",
   "id": "0c9ffea2-0cd7-4a33-b93d-8e4bad79a39c",
   "metadata": {},
   "source": [
    "забавная особенность, сливаются по оси 0, причём одномерные массивы не имеют оси 1, поэтому выдаётся подобная ошибка :)"
   ]
  },
  {
   "cell_type": "code",
   "execution_count": 51,
   "id": "08c64281-1157-429f-bdce-65cb2bff37d0",
   "metadata": {},
   "outputs": [
    {
     "ename": "AxisError",
     "evalue": "axis 1 is out of bounds for array of dimension 1",
     "output_type": "error",
     "traceback": [
      "\u001b[0;31m---------------------------------------------------------------------------\u001b[0m",
      "\u001b[0;31mAxisError\u001b[0m                                 Traceback (most recent call last)",
      "Cell \u001b[0;32mIn[51], line 1\u001b[0m\n\u001b[0;32m----> 1\u001b[0m \u001b[43mnp\u001b[49m\u001b[38;5;241;43m.\u001b[39;49m\u001b[43mconcatenate\u001b[49m\u001b[43m(\u001b[49m\u001b[43m(\u001b[49m\u001b[43mnp\u001b[49m\u001b[38;5;241;43m.\u001b[39;49m\u001b[43marray\u001b[49m\u001b[43m(\u001b[49m\u001b[43m[\u001b[49m\u001b[38;5;241;43m1\u001b[39;49m\u001b[43m,\u001b[49m\u001b[38;5;241;43m2\u001b[39;49m\u001b[43m,\u001b[49m\u001b[38;5;241;43m3\u001b[39;49m\u001b[43m,\u001b[49m\u001b[38;5;241;43m4\u001b[39;49m\u001b[43m]\u001b[49m\u001b[43m)\u001b[49m\u001b[43m,\u001b[49m\u001b[43m \u001b[49m\u001b[43mnp\u001b[49m\u001b[38;5;241;43m.\u001b[39;49m\u001b[43marray\u001b[49m\u001b[43m(\u001b[49m\u001b[43m[\u001b[49m\u001b[38;5;241;43m5\u001b[39;49m\u001b[43m,\u001b[49m\u001b[38;5;241;43m6\u001b[39;49m\u001b[43m,\u001b[49m\u001b[38;5;241;43m7\u001b[39;49m\u001b[43m,\u001b[49m\u001b[38;5;241;43m8\u001b[39;49m\u001b[43m]\u001b[49m\u001b[43m)\u001b[49m\u001b[43m)\u001b[49m\u001b[43m,\u001b[49m\u001b[43maxis\u001b[49m\u001b[38;5;241;43m=\u001b[39;49m\u001b[38;5;241;43m1\u001b[39;49m\u001b[43m)\u001b[49m\n",
      "\u001b[0;31mAxisError\u001b[0m: axis 1 is out of bounds for array of dimension 1"
     ]
    }
   ],
   "source": [
    "np.concatenate((np.array([1,2,3,4]), np.array([5,6,7,8])),axis=1)"
   ]
  },
  {
   "cell_type": "markdown",
   "id": "775386e9-5bc9-4835-ac90-b13c2d034c35",
   "metadata": {},
   "source": [
    "### Random in Numpy"
   ]
  },
  {
   "cell_type": "code",
   "execution_count": 52,
   "id": "2ed30e84-9391-46ee-8e2b-8cc0c0c00569",
   "metadata": {},
   "outputs": [
    {
     "data": {
      "text/plain": [
       "array([[0., 0., 0., 0.],\n",
       "       [0., 0., 0., 0.],\n",
       "       [0., 0., 0., 0.]])"
      ]
     },
     "execution_count": 52,
     "metadata": {},
     "output_type": "execute_result"
    }
   ],
   "source": [
    "np.zeros((3,4))"
   ]
  },
  {
   "cell_type": "code",
   "execution_count": 53,
   "id": "2e5f4356-855c-40d2-8f4e-4fc6620296ed",
   "metadata": {},
   "outputs": [
    {
     "data": {
      "text/plain": [
       "array([[[0., 0.],\n",
       "        [0., 0.],\n",
       "        [0., 0.],\n",
       "        [0., 0.]],\n",
       "\n",
       "       [[0., 0.],\n",
       "        [0., 0.],\n",
       "        [0., 0.],\n",
       "        [0., 0.]],\n",
       "\n",
       "       [[0., 0.],\n",
       "        [0., 0.],\n",
       "        [0., 0.],\n",
       "        [0., 0.]]])"
      ]
     },
     "execution_count": 53,
     "metadata": {},
     "output_type": "execute_result"
    }
   ],
   "source": [
    "np.zeros((3,4,2))"
   ]
  },
  {
   "cell_type": "code",
   "execution_count": 55,
   "id": "5b5b64b1-8489-4337-9077-fe191d8b5fd0",
   "metadata": {},
   "outputs": [
    {
     "data": {
      "text/plain": [
       "array([[0, 0, 0, 0],\n",
       "       [0, 0, 0, 0],\n",
       "       [0, 0, 0, 0]])"
      ]
     },
     "execution_count": 55,
     "metadata": {},
     "output_type": "execute_result"
    }
   ],
   "source": [
    "np.zeros((3,4), dtype='int')"
   ]
  },
  {
   "cell_type": "code",
   "execution_count": 56,
   "id": "782b15f5-d606-485b-aef3-c0cb4f4097e5",
   "metadata": {},
   "outputs": [
    {
     "data": {
      "text/plain": [
       "array([['', '', '', ''],\n",
       "       ['', '', '', ''],\n",
       "       ['', '', '', '']], dtype='<U1')"
      ]
     },
     "execution_count": 56,
     "metadata": {},
     "output_type": "execute_result"
    }
   ],
   "source": [
    "np.zeros((3,4), dtype=str)"
   ]
  },
  {
   "cell_type": "code",
   "execution_count": 57,
   "id": "afc24b77-afcd-4a5e-a453-3e7d76fb4cf4",
   "metadata": {},
   "outputs": [
    {
     "data": {
      "text/plain": [
       "array([[1, 1, 1, 1],\n",
       "       [1, 1, 1, 1],\n",
       "       [1, 1, 1, 1]])"
      ]
     },
     "execution_count": 57,
     "metadata": {},
     "output_type": "execute_result"
    }
   ],
   "source": [
    "np.ones((3,4), dtype=int)"
   ]
  },
  {
   "cell_type": "code",
   "execution_count": 58,
   "id": "6b1337c8-1900-41d3-9435-58f997d3b2b7",
   "metadata": {},
   "outputs": [
    {
     "data": {
      "text/plain": [
       "array([['1', '1', '1', '1'],\n",
       "       ['1', '1', '1', '1'],\n",
       "       ['1', '1', '1', '1']], dtype='<U1')"
      ]
     },
     "execution_count": 58,
     "metadata": {},
     "output_type": "execute_result"
    }
   ],
   "source": [
    "np.ones((3,4), dtype='str')"
   ]
  },
  {
   "cell_type": "code",
   "execution_count": 66,
   "id": "18868071-a56f-48ae-9049-3130192d5a3f",
   "metadata": {},
   "outputs": [
    {
     "data": {
      "text/plain": [
       "array([[0.84656149, 0.07964548, 0.50524609],\n",
       "       [0.0652865 , 0.42812233, 0.09653092]])"
      ]
     },
     "execution_count": 66,
     "metadata": {},
     "output_type": "execute_result"
    }
   ],
   "source": [
    "np.random.random([2,3])"
   ]
  },
  {
   "cell_type": "code",
   "execution_count": 67,
   "id": "3fbc6073-523f-4bb7-aefe-9713fc9ae0b6",
   "metadata": {},
   "outputs": [
    {
     "data": {
      "text/plain": [
       "array([[0.12715997, 0.59674531, 0.226012  ],\n",
       "       [0.10694568, 0.22030621, 0.34982629]])"
      ]
     },
     "execution_count": 67,
     "metadata": {},
     "output_type": "execute_result"
    }
   ],
   "source": [
    "np.random.random((2,3))"
   ]
  },
  {
   "cell_type": "code",
   "execution_count": 68,
   "id": "303a89de-6eb9-4a8f-897b-841fc194074e",
   "metadata": {},
   "outputs": [
    {
     "data": {
      "text/plain": [
       "array([[0.4359949 , 0.02592623, 0.54966248],\n",
       "       [0.43532239, 0.4203678 , 0.33033482]])"
      ]
     },
     "execution_count": 68,
     "metadata": {},
     "output_type": "execute_result"
    }
   ],
   "source": [
    "np.random.seed(2)\n",
    "np.random.random([2,3])"
   ]
  },
  {
   "cell_type": "raw",
   "id": "7c59b5cf-c347-41aa-bf4f-2dfa8e08dd38",
   "metadata": {},
   "source": [
    "от 10 до 20 не включительно :("
   ]
  },
  {
   "cell_type": "code",
   "execution_count": 69,
   "id": "55f9fda2-fffe-475c-9152-3d54e61e280b",
   "metadata": {},
   "outputs": [
    {
     "data": {
      "text/plain": [
       "array([[15, 14, 14],\n",
       "       [15, 17, 13]])"
      ]
     },
     "execution_count": 69,
     "metadata": {},
     "output_type": "execute_result"
    }
   ],
   "source": [
    "np.random.randint(10,20,size=[2,3])"
   ]
  },
  {
   "cell_type": "code",
   "execution_count": 70,
   "id": "8e3e1504-f688-4643-b9e1-401709ce8b03",
   "metadata": {},
   "outputs": [
    {
     "data": {
      "text/plain": [
       "array([[0.49856117, 0.58679698, 0.71975423, 0.25849809],\n",
       "       [0.54620732, 0.40730783, 0.17698462, 0.96963241],\n",
       "       [0.29701836, 0.28786882, 0.11619332, 0.18172704]])"
      ]
     },
     "execution_count": 70,
     "metadata": {},
     "output_type": "execute_result"
    }
   ],
   "source": [
    "np.random.uniform(size=(3,4))"
   ]
  },
  {
   "cell_type": "code",
   "execution_count": 72,
   "id": "faaa6502-3b46-45f9-9205-3c9b58605481",
   "metadata": {},
   "outputs": [
    {
     "data": {
      "text/plain": [
       "array([[1.99, 1.12, 1.15, 1.85],\n",
       "       [1.51, 1.22, 1.99, 1.32],\n",
       "       [1.26, 1.81, 1.35, 1.47]])"
      ]
     },
     "execution_count": 72,
     "metadata": {},
     "output_type": "execute_result"
    }
   ],
   "source": [
    "np.random.uniform(1,2,size=(3,4)).round(2)"
   ]
  },
  {
   "cell_type": "code",
   "execution_count": 73,
   "id": "66c94a22-9125-425b-8ae1-83b4a1683cc0",
   "metadata": {},
   "outputs": [
    {
     "data": {
      "text/plain": [
       "array([2, 3, 3, 3, 1, 3, 2, 1, 1, 2, 2, 3, 2, 2, 2, 2, 3, 1, 3, 3])"
      ]
     },
     "execution_count": 73,
     "metadata": {},
     "output_type": "execute_result"
    }
   ],
   "source": [
    "np.random.choice(np.array([1,2,3]),size=20)"
   ]
  },
  {
   "cell_type": "code",
   "execution_count": 74,
   "id": "a07d38b3-8fce-47be-93ff-deda03003471",
   "metadata": {},
   "outputs": [
    {
     "data": {
      "text/plain": [
       "array([[1, 2, 3],\n",
       "       [1, 3, 1]])"
      ]
     },
     "execution_count": 74,
     "metadata": {},
     "output_type": "execute_result"
    }
   ],
   "source": [
    "np.random.choice(np.array([1,2,3]),size=[2,3])"
   ]
  },
  {
   "cell_type": "code",
   "execution_count": 76,
   "id": "1f6ca05d-50b8-4bac-b8d8-805749b54ef1",
   "metadata": {},
   "outputs": [
    {
     "data": {
      "text/plain": [
       "array(['a', 'c', 'b', 'a', 'a', 'c', 'c', 'b', 'b', 'b'], dtype='<U1')"
      ]
     },
     "execution_count": 76,
     "metadata": {},
     "output_type": "execute_result"
    }
   ],
   "source": [
    "np.random.choice(np.array(['a','b','c']),size=10)"
   ]
  },
  {
   "cell_type": "markdown",
   "id": "4b122a90-3fef-4950-94eb-e1bc7730f882",
   "metadata": {},
   "source": [
    "### Arange and Reshape"
   ]
  },
  {
   "cell_type": "code",
   "execution_count": 77,
   "id": "cb0dcca1-8474-42a9-9401-416d49cd0a28",
   "metadata": {},
   "outputs": [
    {
     "data": {
      "text/plain": [
       "array([0, 1, 2, 3, 4, 5, 6, 7, 8, 9])"
      ]
     },
     "execution_count": 77,
     "metadata": {},
     "output_type": "execute_result"
    }
   ],
   "source": [
    "np.arange(10)"
   ]
  },
  {
   "cell_type": "code",
   "execution_count": 79,
   "id": "38e818be-5164-43ac-af7e-e4eba118f4cb",
   "metadata": {},
   "outputs": [
    {
     "data": {
      "text/plain": [
       "numpy.ndarray"
      ]
     },
     "execution_count": 79,
     "metadata": {},
     "output_type": "execute_result"
    }
   ],
   "source": [
    "type(np.arange(10))"
   ]
  },
  {
   "cell_type": "code",
   "execution_count": 80,
   "id": "ef2e9aeb-c7c7-4d9e-a67e-f4640d132883",
   "metadata": {},
   "outputs": [
    {
     "data": {
      "text/plain": [
       "array([15, 16, 17, 18, 19, 20, 21, 22, 23, 24])"
      ]
     },
     "execution_count": 80,
     "metadata": {},
     "output_type": "execute_result"
    }
   ],
   "source": [
    "np.arange(15,25)"
   ]
  },
  {
   "cell_type": "code",
   "execution_count": 81,
   "id": "7c3a0c30-ee4a-46f0-adad-8aa7196cf7bf",
   "metadata": {},
   "outputs": [
    {
     "data": {
      "text/plain": [
       "array([20, 23, 26, 29])"
      ]
     },
     "execution_count": 81,
     "metadata": {},
     "output_type": "execute_result"
    }
   ],
   "source": [
    "np.arange(20,30,3)"
   ]
  },
  {
   "cell_type": "code",
   "execution_count": 82,
   "id": "0ce0ce93-bc8a-4393-8b9b-265c8ae27fed",
   "metadata": {},
   "outputs": [
    {
     "data": {
      "text/plain": [
       "array([-15, -11,  -7,  -3,   1])"
      ]
     },
     "execution_count": 82,
     "metadata": {},
     "output_type": "execute_result"
    }
   ],
   "source": [
    "np.arange(-15,5,4)"
   ]
  },
  {
   "cell_type": "code",
   "execution_count": 83,
   "id": "caeee464-8925-4706-991d-f198ba77fb6a",
   "metadata": {},
   "outputs": [
    {
     "data": {
      "text/plain": [
       "array([10, 15])"
      ]
     },
     "execution_count": 83,
     "metadata": {},
     "output_type": "execute_result"
    }
   ],
   "source": [
    "np.arange(start=10, stop=20,step=5)"
   ]
  },
  {
   "cell_type": "code",
   "execution_count": 84,
   "id": "fdc3cb5e-4296-42c3-a757-381b210cdc98",
   "metadata": {},
   "outputs": [
    {
     "data": {
      "text/plain": [
       "array([[ 0,  1,  2,  3,  4,  5,  6,  7,  8,  9],\n",
       "       [10, 11, 12, 13, 14, 15, 16, 17, 18, 19]])"
      ]
     },
     "execution_count": 84,
     "metadata": {},
     "output_type": "execute_result"
    }
   ],
   "source": [
    "np.arange(20).reshape(2,10)"
   ]
  },
  {
   "cell_type": "raw",
   "id": "cee51857-a4d5-4029-9ffa-9b0b783acadb",
   "metadata": {},
   "source": [
    "Число столбцов и строк должно совпадать"
   ]
  },
  {
   "cell_type": "code",
   "execution_count": 86,
   "id": "31c923f2-80cf-4ca1-8474-78eff0667362",
   "metadata": {},
   "outputs": [
    {
     "ename": "ValueError",
     "evalue": "cannot reshape array of size 20 into shape (3,10)",
     "output_type": "error",
     "traceback": [
      "\u001b[0;31m---------------------------------------------------------------------------\u001b[0m",
      "\u001b[0;31mValueError\u001b[0m                                Traceback (most recent call last)",
      "Cell \u001b[0;32mIn[86], line 1\u001b[0m\n\u001b[0;32m----> 1\u001b[0m \u001b[43mnp\u001b[49m\u001b[38;5;241;43m.\u001b[39;49m\u001b[43marange\u001b[49m\u001b[43m(\u001b[49m\u001b[38;5;241;43m20\u001b[39;49m\u001b[43m)\u001b[49m\u001b[38;5;241;43m.\u001b[39;49m\u001b[43mreshape\u001b[49m\u001b[43m(\u001b[49m\u001b[43m[\u001b[49m\u001b[38;5;241;43m3\u001b[39;49m\u001b[43m,\u001b[49m\u001b[38;5;241;43m10\u001b[39;49m\u001b[43m]\u001b[49m\u001b[43m)\u001b[49m\n",
      "\u001b[0;31mValueError\u001b[0m: cannot reshape array of size 20 into shape (3,10)"
     ]
    }
   ],
   "source": [
    "np.arange(20).reshape([3,10])"
   ]
  },
  {
   "cell_type": "code",
   "execution_count": 87,
   "id": "b3f5cefc-20eb-4960-bb61-7f44cd1f9632",
   "metadata": {},
   "outputs": [
    {
     "data": {
      "text/plain": [
       "array([[ 0,  1,  2,  3,  4],\n",
       "       [ 5,  6,  7,  8,  9],\n",
       "       [10, 11, 12, 13, 14],\n",
       "       [15, 16, 17, 18, 19]])"
      ]
     },
     "execution_count": 87,
     "metadata": {},
     "output_type": "execute_result"
    }
   ],
   "source": [
    "np.arange(20).reshape(2,10).reshape([4,5])"
   ]
  },
  {
   "cell_type": "code",
   "execution_count": 88,
   "id": "17b05d29-add5-48bb-a3a3-68583093f54f",
   "metadata": {},
   "outputs": [
    {
     "data": {
      "text/plain": [
       "array([0.55097791, 0.97291069, 0.11277622, 0.31325853, 0.04179771,\n",
       "       0.73839976, 0.65751239, 0.21463575, 0.41675344, 0.64384193])"
      ]
     },
     "execution_count": 88,
     "metadata": {},
     "output_type": "execute_result"
    }
   ],
   "source": [
    "np.random.random(10,)"
   ]
  },
  {
   "cell_type": "code",
   "execution_count": 90,
   "id": "b1a6b9e4-57db-431a-8a3e-017fc155bee8",
   "metadata": {},
   "outputs": [
    {
     "data": {
      "text/plain": [
       "array([[0.91845865, 0.59208458, 0.34623791, 0.26377853, 0.91391548],\n",
       "       [0.41973546, 0.54019152, 0.60844216, 0.82624983, 0.62356318]])"
      ]
     },
     "execution_count": 90,
     "metadata": {},
     "output_type": "execute_result"
    }
   ],
   "source": [
    "np.random.random(10,).reshape((2,5))"
   ]
  },
  {
   "cell_type": "code",
   "execution_count": 92,
   "id": "0aa0f923-b72b-4b28-b683-7f720f43d253",
   "metadata": {},
   "outputs": [
    {
     "data": {
      "text/plain": [
       "array([[[59, 79, 54],\n",
       "        [65, 50, 67],\n",
       "        [77, 78, 75]],\n",
       "\n",
       "       [[79, 66, 79],\n",
       "        [67, 76, 58],\n",
       "        [59, 50, 60]],\n",
       "\n",
       "       [[58, 72, 54],\n",
       "        [69, 66, 54],\n",
       "        [65, 61, 72]],\n",
       "\n",
       "       [[74, 61, 76],\n",
       "        [51, 58, 54],\n",
       "        [64, 67, 69]]])"
      ]
     },
     "execution_count": 92,
     "metadata": {},
     "output_type": "execute_result"
    }
   ],
   "source": [
    "np.random.seed(10)\n",
    "np.random.randint(50,80, (4,3,3))"
   ]
  },
  {
   "cell_type": "code",
   "execution_count": 93,
   "id": "bdfeb9bf-1423-4e3a-ad48-1af6fa003e62",
   "metadata": {},
   "outputs": [
    {
     "data": {
      "text/plain": [
       "array([59, 79, 54, 65, 50, 67, 77, 78, 75, 79, 66, 79, 67, 76, 58, 59, 50,\n",
       "       60, 58, 72, 54, 69, 66, 54, 65, 61, 72, 74, 61, 76, 51, 58, 54, 64,\n",
       "       67, 69])"
      ]
     },
     "execution_count": 93,
     "metadata": {},
     "output_type": "execute_result"
    }
   ],
   "source": [
    "np.random.seed(10)\n",
    "np.random.randint(50,80, (4,3,3)).flatten()"
   ]
  },
  {
   "cell_type": "code",
   "execution_count": 97,
   "id": "531bb803-e1bb-4c58-8364-07c8edab6fee",
   "metadata": {},
   "outputs": [
    {
     "data": {
      "text/plain": [
       "array([0, 1, 2, 3, 4, 5, 6, 7, 8, 9])"
      ]
     },
     "execution_count": 97,
     "metadata": {},
     "output_type": "execute_result"
    }
   ],
   "source": [
    "np.arange(10).reshape(2,5).flatten()"
   ]
  },
  {
   "cell_type": "markdown",
   "id": "57e8cb1d-ea5b-46f5-a48c-d57c0915e878",
   "metadata": {},
   "source": [
    "### Real life examples"
   ]
  },
  {
   "cell_type": "markdown",
   "id": "eed55b89-10a7-4f14-833f-3ec07ac98495",
   "metadata": {},
   "source": [
    "#### Ex.1"
   ]
  },
  {
   "cell_type": "code",
   "execution_count": 102,
   "id": "e9cd5c82-fa11-4c63-a298-96a87ca7d7b0",
   "metadata": {},
   "outputs": [
    {
     "data": {
      "text/plain": [
       "array([84.88, 37.88, 63.78, 88.52, 98.47])"
      ]
     },
     "execution_count": 102,
     "metadata": {},
     "output_type": "execute_result"
    }
   ],
   "source": [
    "prices = np.random.uniform(10,100,5).round(2)\n",
    "prices"
   ]
  },
  {
   "cell_type": "code",
   "execution_count": 104,
   "id": "cdc311e2-5c5b-4667-9386-e4156136845f",
   "metadata": {},
   "outputs": [
    {
     "data": {
      "text/plain": [
       "array([14, 16,  7, 11, 12])"
      ]
     },
     "execution_count": 104,
     "metadata": {},
     "output_type": "execute_result"
    }
   ],
   "source": [
    "quantities = np.random.randint(1,20,5)\n",
    "quantities"
   ]
  },
  {
   "cell_type": "code",
   "execution_count": 109,
   "id": "16500545-00d9-46be-aa3b-6fbec1ea40f1",
   "metadata": {},
   "outputs": [
    {
     "data": {
      "text/plain": [
       "array([1188.32,  606.08,  446.46,  973.72, 1181.64])"
      ]
     },
     "execution_count": 109,
     "metadata": {},
     "output_type": "execute_result"
    }
   ],
   "source": [
    "income = prices*quantities\n",
    "income"
   ]
  },
  {
   "cell_type": "code",
   "execution_count": 110,
   "id": "2e8ac710-c426-4f4e-8ab2-8e6ebb6b44ea",
   "metadata": {},
   "outputs": [
    {
     "data": {
      "text/plain": [
       "np.float64(4396.22)"
      ]
     },
     "execution_count": 110,
     "metadata": {},
     "output_type": "execute_result"
    }
   ],
   "source": [
    "income.sum().round(2)"
   ]
  },
  {
   "cell_type": "code",
   "execution_count": 113,
   "id": "78a59512-5d20-4e60-a694-7958289f44aa",
   "metadata": {},
   "outputs": [
    {
     "data": {
      "text/plain": [
       "np.float64(4396.22)"
      ]
     },
     "execution_count": 113,
     "metadata": {},
     "output_type": "execute_result"
    }
   ],
   "source": [
    "total=np.sum(income).round(2)\n",
    "total"
   ]
  },
  {
   "cell_type": "markdown",
   "id": "7b2f3797-3880-46ce-874a-fafc2b83c6c0",
   "metadata": {},
   "source": [
    "#### Ex.2"
   ]
  },
  {
   "cell_type": "code",
   "execution_count": 115,
   "id": "df5eff83-8e77-4e48-80d7-e3b29d5ce8aa",
   "metadata": {},
   "outputs": [
    {
     "data": {
      "text/plain": [
       "array([685, 997, 579, 864, 732])"
      ]
     },
     "execution_count": 115,
     "metadata": {},
     "output_type": "execute_result"
    }
   ],
   "source": [
    "views = np.random.randint(500,1000,5)\n",
    "views"
   ]
  },
  {
   "cell_type": "code",
   "execution_count": 117,
   "id": "9b21cd4e-3af2-4ef3-a80c-5395d2441e36",
   "metadata": {},
   "outputs": [
    {
     "data": {
      "text/plain": [
       "np.int64(997)"
      ]
     },
     "execution_count": 117,
     "metadata": {},
     "output_type": "execute_result"
    }
   ],
   "source": [
    "max_views=np.max(views)\n",
    "max_views"
   ]
  },
  {
   "cell_type": "code",
   "execution_count": 118,
   "id": "4f9c0630-9c20-4acb-a6cc-09daef29d1dd",
   "metadata": {},
   "outputs": [
    {
     "data": {
      "text/plain": [
       "np.int64(579)"
      ]
     },
     "execution_count": 118,
     "metadata": {},
     "output_type": "execute_result"
    }
   ],
   "source": [
    "min_views = min(views)\n",
    "min_views"
   ]
  },
  {
   "cell_type": "code",
   "execution_count": 122,
   "id": "55743245-0e61-459c-b773-0c4486fe5f32",
   "metadata": {},
   "outputs": [
    {
     "data": {
      "text/plain": [
       "np.float64(771.4)"
      ]
     },
     "execution_count": 122,
     "metadata": {},
     "output_type": "execute_result"
    }
   ],
   "source": [
    "avg_views = np.mean(views).round(2)\n",
    "avg_views"
   ]
  },
  {
   "cell_type": "code",
   "execution_count": 123,
   "id": "19d82630-13ae-40bf-a00e-92c4ab81be47",
   "metadata": {},
   "outputs": [
    {
     "data": {
      "text/plain": [
       "np.int64(3857)"
      ]
     },
     "execution_count": 123,
     "metadata": {},
     "output_type": "execute_result"
    }
   ],
   "source": [
    "total = np.sum(views)\n",
    "total"
   ]
  },
  {
   "cell_type": "markdown",
   "id": "5b75f811-c189-4cd2-90a1-da26b1833856",
   "metadata": {},
   "source": [
    "#### Ex.3"
   ]
  },
  {
   "cell_type": "code",
   "execution_count": 129,
   "id": "e5a0e162-3e83-4df3-80de-3cb8ef2d2678",
   "metadata": {},
   "outputs": [
    {
     "data": {
      "text/plain": [
       "array([1001, 1002, 1003, 1004, 1005, 1006, 1007, 1008])"
      ]
     },
     "execution_count": 129,
     "metadata": {},
     "output_type": "execute_result"
    }
   ],
   "source": [
    "order_id = np.arange(1001,1009)\n",
    "order_id"
   ]
  },
  {
   "cell_type": "code",
   "execution_count": 134,
   "id": "c80541cf-499e-467d-8df5-9d1963a88f59",
   "metadata": {},
   "outputs": [
    {
     "data": {
      "text/plain": [
       "[array([1001, 1002, 1003, 1004]), array([1005, 1006, 1007, 1008])]"
      ]
     },
     "execution_count": 134,
     "metadata": {},
     "output_type": "execute_result"
    }
   ],
   "source": [
    "batches = np.split(order_id,2)\n",
    "batches"
   ]
  },
  {
   "cell_type": "code",
   "execution_count": 135,
   "id": "fadd943c-61d7-464d-87aa-054c243a9ab6",
   "metadata": {},
   "outputs": [
    {
     "name": "stdout",
     "output_type": "stream",
     "text": [
      "First element in the batch 1001\n",
      "First element in the batch 1002\n",
      "First element in the batch 1005\n",
      "First element in the batch 1006\n"
     ]
    }
   ],
   "source": [
    "for batch in batches:\n",
    "    print(\"First element in the batch\",batch[0])\n",
    "    print(\"First element in the batch\",batch[1])"
   ]
  },
  {
   "cell_type": "code",
   "execution_count": 139,
   "id": "d499afde-810d-4001-a516-9853d1f63ce0",
   "metadata": {},
   "outputs": [
    {
     "name": "stdout",
     "output_type": "stream",
     "text": [
      "Batch number 0:\n",
      "First element in the batch 1001\n",
      "First element in the batch 1002\n",
      "\n",
      "Batch number 1:\n",
      "First element in the batch 1005\n",
      "First element in the batch 1006\n",
      "\n"
     ]
    }
   ],
   "source": [
    "for i, batch in enumerate(batches):\n",
    "    print(f\"Batch number {i}:\")\n",
    "    print(\"First element in the batch\",batch[0])\n",
    "    print(\"First element in the batch\",batch[1])\n",
    "    print('')"
   ]
  },
  {
   "cell_type": "markdown",
   "id": "1d1ff801-f0ff-4688-be3c-08989aa7c70c",
   "metadata": {},
   "source": [
    "#### Ex.4"
   ]
  },
  {
   "cell_type": "code",
   "execution_count": 143,
   "id": "d727ed1f-106e-4ff0-a67a-866abfdaf788",
   "metadata": {},
   "outputs": [
    {
     "data": {
      "text/plain": [
       "array([1.2, 4.5, 4.1, 4.5, 2.7, 3.4, 3.1, 3.4])"
      ]
     },
     "execution_count": 143,
     "metadata": {},
     "output_type": "execute_result"
    }
   ],
   "source": [
    "ratings = np.random.uniform(1,5,8).round(1)\n",
    "ratings"
   ]
  },
  {
   "cell_type": "code",
   "execution_count": 145,
   "id": "0616446a-b245-4e14-9288-c8be8f329b60",
   "metadata": {},
   "outputs": [
    {
     "data": {
      "text/plain": [
       "array([4.5, 4.1, 4.5])"
      ]
     },
     "execution_count": 145,
     "metadata": {},
     "output_type": "execute_result"
    }
   ],
   "source": [
    "positive_ratings = ratings[ratings > 4.0]\n",
    "positive_ratings"
   ]
  },
  {
   "cell_type": "code",
   "execution_count": 146,
   "id": "58056661-95e7-44e5-bb5c-a3a238cef521",
   "metadata": {},
   "outputs": [
    {
     "data": {
      "text/plain": [
       "array([1.2, 2.7, 3.4, 3.1, 3.4])"
      ]
     },
     "execution_count": 146,
     "metadata": {},
     "output_type": "execute_result"
    }
   ],
   "source": [
    "negative_ratings = ratings[ratings < 4.0]\n",
    "negative_ratings"
   ]
  },
  {
   "cell_type": "markdown",
   "id": "40eb7aa3-844a-49e6-aa7b-bee70b83a0b9",
   "metadata": {},
   "source": [
    "#### Ex.5"
   ]
  },
  {
   "cell_type": "code",
   "execution_count": 149,
   "id": "b5a322b1-4332-4d66-a5e1-68b831bd784d",
   "metadata": {},
   "outputs": [
    {
     "data": {
      "text/plain": [
       "array([[ 1,  5,  3,  7],\n",
       "       [ 6,  8, 12, 21]])"
      ]
     },
     "execution_count": 149,
     "metadata": {},
     "output_type": "execute_result"
    }
   ],
   "source": [
    "order_num = np.array([[1,5,3,7],[6,8,12,21]])\n",
    "order_num"
   ]
  },
  {
   "cell_type": "code",
   "execution_count": 151,
   "id": "9130e1ef-ee4a-4658-82c2-037c95b6430b",
   "metadata": {},
   "outputs": [
    {
     "data": {
      "text/plain": [
       "array([ 7, 13, 15, 28])"
      ]
     },
     "execution_count": 151,
     "metadata": {},
     "output_type": "execute_result"
    }
   ],
   "source": [
    "total_quantities=np.sum(order_num, axis=0)\n",
    "total_quantities"
   ]
  },
  {
   "cell_type": "code",
   "execution_count": 152,
   "id": "ebee810f-a8b1-448c-93d4-85e4d5d38fe7",
   "metadata": {},
   "outputs": [
    {
     "data": {
      "text/plain": [
       "array([16, 47])"
      ]
     },
     "execution_count": 152,
     "metadata": {},
     "output_type": "execute_result"
    }
   ],
   "source": [
    "total_quantities=np.sum(order_num, axis=1)\n",
    "total_quantities"
   ]
  },
  {
   "cell_type": "code",
   "execution_count": 154,
   "id": "8199e8df-aa19-43b3-b3ae-375be498ec40",
   "metadata": {},
   "outputs": [
    {
     "data": {
      "text/plain": [
       "array([ 3.5,  6.5,  7.5, 14. ])"
      ]
     },
     "execution_count": 154,
     "metadata": {},
     "output_type": "execute_result"
    }
   ],
   "source": [
    "avg_quantities = np.mean(order_num, axis=0).round(2)\n",
    "avg_quantities"
   ]
  },
  {
   "cell_type": "markdown",
   "id": "c24c284f-3d52-4c83-a08f-31916cc4383d",
   "metadata": {},
   "source": [
    "#### Ex.6"
   ]
  },
  {
   "cell_type": "raw",
   "id": "eea1430e-5263-4ce1-8631-850e6a11d083",
   "metadata": {},
   "source": [
    "Each row is one product\n",
    "Each product is rated in 4 categories"
   ]
  },
  {
   "cell_type": "code",
   "execution_count": 158,
   "id": "af239408-5f33-4f6b-92af-05c3c701fd3f",
   "metadata": {},
   "outputs": [
    {
     "data": {
      "text/plain": [
       "array([[3.6, 2.4, 1.3, 1.9],\n",
       "       [1.5, 4. , 2.4, 3.3],\n",
       "       [1.7, 1.2, 4.3, 4.2]])"
      ]
     },
     "execution_count": 158,
     "metadata": {},
     "output_type": "execute_result"
    }
   ],
   "source": [
    "pr_raiting = np.random.uniform(1,5,12).round(1).reshape(3,4)\n",
    "pr_raiting"
   ]
  },
  {
   "cell_type": "code",
   "execution_count": 161,
   "id": "2676c5dd-1789-4244-94fb-88d84e353263",
   "metadata": {},
   "outputs": [
    {
     "data": {
      "text/plain": [
       "array([2.27, 2.53, 2.67, 3.13])"
      ]
     },
     "execution_count": 161,
     "metadata": {},
     "output_type": "execute_result"
    }
   ],
   "source": [
    "avg_raiting_per_category=np.mean(pr_raiting,axis=0).round(2)\n",
    "avg_raiting_per_category"
   ]
  },
  {
   "cell_type": "code",
   "execution_count": 163,
   "id": "a64dd609-3c71-4743-8dc5-23f8d6c60832",
   "metadata": {},
   "outputs": [
    {
     "data": {
      "text/plain": [
       "array([3.6, 4. , 4.3, 4.2])"
      ]
     },
     "execution_count": 163,
     "metadata": {},
     "output_type": "execute_result"
    }
   ],
   "source": [
    "# max raiting in each category\n",
    "max_raiting = np.max(pr_raiting, axis=0)\n",
    "max_raiting"
   ]
  },
  {
   "cell_type": "markdown",
   "id": "126dd632-699e-4c01-b60f-160540017237",
   "metadata": {},
   "source": [
    "#### Ex.7"
   ]
  },
  {
   "cell_type": "code",
   "execution_count": 164,
   "id": "285ff5b2-47d5-432f-8112-5c2e653a00a0",
   "metadata": {},
   "outputs": [],
   "source": [
    "comp = ['Google','Microsoft','Apple']\n",
    "days = ['Mon 1 April', 'Tue 2 April']\n",
    "price_types = ['Open','Close','Hight','Low']"
   ]
  },
  {
   "cell_type": "code",
   "execution_count": 166,
   "id": "115d9ea4-236c-4c6d-9d08-3d84e5f07e2f",
   "metadata": {},
   "outputs": [
    {
     "data": {
      "text/plain": [
       "array([[[0.42, 0.72, 0.  , 0.3 ],\n",
       "        [0.15, 0.09, 0.19, 0.35]],\n",
       "\n",
       "       [[0.4 , 0.54, 0.42, 0.69],\n",
       "        [0.2 , 0.88, 0.03, 0.67]],\n",
       "\n",
       "       [[0.42, 0.56, 0.14, 0.2 ],\n",
       "        [0.8 , 0.97, 0.31, 0.69]]])"
      ]
     },
     "execution_count": 166,
     "metadata": {},
     "output_type": "execute_result"
    }
   ],
   "source": [
    "# shape will be (3,2,4)\n",
    "np.random.seed(1)\n",
    "stock_prices =np.round(np.random.random((len(comp),len(days), len(price_types))),2)\n",
    "stock_prices"
   ]
  },
  {
   "cell_type": "code",
   "execution_count": 169,
   "id": "c05fbf45-f183-40d5-aaea-7fe3687649a9",
   "metadata": {},
   "outputs": [
    {
     "name": "stdout",
     "output_type": "stream",
     "text": [
      "Stock prices for the Google:\n",
      "Day: Mon 1 April\n",
      "Open Price: 0.42\n",
      "Close Price: 0.72\n",
      "Hight Price: 0.0\n",
      "Low Price: 0.3\n",
      "\n",
      "Day: Tue 2 April\n",
      "Open Price: 0.15\n",
      "Close Price: 0.09\n",
      "Hight Price: 0.19\n",
      "Low Price: 0.35\n",
      "\n",
      "\n",
      "Stock prices for the Microsoft:\n",
      "Day: Mon 1 April\n",
      "Open Price: 0.4\n",
      "Close Price: 0.54\n",
      "Hight Price: 0.42\n",
      "Low Price: 0.69\n",
      "\n",
      "Day: Tue 2 April\n",
      "Open Price: 0.2\n",
      "Close Price: 0.88\n",
      "Hight Price: 0.03\n",
      "Low Price: 0.67\n",
      "\n",
      "\n",
      "Stock prices for the Apple:\n",
      "Day: Mon 1 April\n",
      "Open Price: 0.42\n",
      "Close Price: 0.56\n",
      "Hight Price: 0.14\n",
      "Low Price: 0.2\n",
      "\n",
      "Day: Tue 2 April\n",
      "Open Price: 0.8\n",
      "Close Price: 0.97\n",
      "Hight Price: 0.31\n",
      "Low Price: 0.69\n",
      "\n",
      "\n"
     ]
    }
   ],
   "source": [
    "for indx_axis_0, company in enumerate(comp):\n",
    "    print(f'Stock prices for the {company}:')\n",
    "    for indx_axis_1, day in enumerate(days):\n",
    "        print(f'Day: {day}')\n",
    "        for indx_axis_2, price_type in enumerate(price_types):\n",
    "            print(f'{price_type} Price: {stock_prices[indx_axis_0,indx_axis_1,indx_axis_2]}')\n",
    "        print('')\n",
    "    print('')"
   ]
  },
  {
   "cell_type": "code",
   "execution_count": null,
   "id": "2f797b8b-3379-4fad-818e-2effe0b4c851",
   "metadata": {},
   "outputs": [],
   "source": []
  }
 ],
 "metadata": {
  "kernelspec": {
   "display_name": "Python 3 (ipykernel)",
   "language": "python",
   "name": "python3"
  },
  "language_info": {
   "codemirror_mode": {
    "name": "ipython",
    "version": 3
   },
   "file_extension": ".py",
   "mimetype": "text/x-python",
   "name": "python",
   "nbconvert_exporter": "python",
   "pygments_lexer": "ipython3",
   "version": "3.10.12"
  }
 },
 "nbformat": 4,
 "nbformat_minor": 5
}
